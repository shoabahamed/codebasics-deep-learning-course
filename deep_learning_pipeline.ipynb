{
  "cells": [
    {
      "cell_type": "markdown",
      "metadata": {
        "id": "view-in-github",
        "colab_type": "text"
      },
      "source": [
        "<a href=\"https://colab.research.google.com/github/shoabahamed/codebasics-deep-learning-course/blob/main/deep_learning_pipeline.ipynb\" target=\"_parent\"><img src=\"https://colab.research.google.com/assets/colab-badge.svg\" alt=\"Open In Colab\"/></a>"
      ]
    },
    {
      "cell_type": "code",
      "source": [
        "import tensorflow as tf\n",
        "import os\n",
        "import time"
      ],
      "metadata": {
        "id": "wwzgwdAiMN_7"
      },
      "execution_count": 2,
      "outputs": []
    },
    {
      "cell_type": "code",
      "source": [
        "from google.colab import drive\n",
        "drive.mount('/content/drive')"
      ],
      "metadata": {
        "id": "uP1UJD2cMowP"
      },
      "execution_count": null,
      "outputs": []
    },
    {
      "cell_type": "code",
      "source": [
        "tf.__version__"
      ],
      "metadata": {
        "colab": {
          "base_uri": "https://localhost:8080/",
          "height": 35
        },
        "id": "oUY3Sl5oMOhh",
        "outputId": "dbb69249-dcba-46c2-a133-9da7f2846b5a"
      },
      "execution_count": 3,
      "outputs": [
        {
          "output_type": "execute_result",
          "data": {
            "text/plain": [
              "'2.8.2'"
            ],
            "application/vnd.google.colaboratory.intrinsic+json": {
              "type": "string"
            }
          },
          "metadata": {},
          "execution_count": 3
        }
      ]
    },
    {
      "cell_type": "code",
      "source": [
        "text_ds = tf.data.Dataset.list_files('/content/drive/MyDrive/text_files/*/*', shuffle=False)\n",
        "for file in text_ds:\n",
        "    print(file.numpy())"
      ],
      "metadata": {
        "colab": {
          "base_uri": "https://localhost:8080/"
        },
        "id": "BTMqVYZPMQK5",
        "outputId": "96c05aa5-bcc1-49ea-c59a-1568a0351fcf"
      },
      "execution_count": 6,
      "outputs": [
        {
          "output_type": "stream",
          "name": "stdout",
          "text": [
            "b'/content/drive/MyDrive/text_files/negative/neg0.txt'\n",
            "b'/content/drive/MyDrive/text_files/negative/neg1.txt'\n",
            "b'/content/drive/MyDrive/text_files/negative/neg2.txt'\n",
            "b'/content/drive/MyDrive/text_files/positive/pos0.txt'\n",
            "b'/content/drive/MyDrive/text_files/positive/pos1.txt'\n",
            "b'/content/drive/MyDrive/text_files/positive/pos2.txt'\n"
          ]
        }
      ]
    },
    {
      "cell_type": "code",
      "source": [
        "def get_label(file_path):\n",
        "    text_name = tf.strings.split(file_path, os.path.sep)[-2]\n",
        "    return text_name\n",
        "\n",
        "\n",
        "for i in text_ds.map(get_label):\n",
        "    print(i.numpy())"
      ],
      "metadata": {
        "colab": {
          "base_uri": "https://localhost:8080/"
        },
        "id": "bnBLnENDMsy0",
        "outputId": "d025698a-1c98-469f-888c-f40c0acad625"
      },
      "execution_count": 7,
      "outputs": [
        {
          "output_type": "stream",
          "name": "stdout",
          "text": [
            "b'negative'\n",
            "b'negative'\n",
            "b'negative'\n",
            "b'positive'\n",
            "b'positive'\n",
            "b'positive'\n"
          ]
        }
      ]
    },
    {
      "cell_type": "code",
      "source": [
        "def text_processed(file_path):\n",
        "    txt_name = get_label(file_path)\n",
        "    text = tf.io.read_file(file_path)\n",
        "    return txt_name, text\n",
        "\n",
        "new_ds = text_ds.map(text_processed)"
      ],
      "metadata": {
        "id": "8PLt0_RdMvgm"
      },
      "execution_count": 8,
      "outputs": []
    },
    {
      "cell_type": "code",
      "source": [
        "new_text_ds = new_ds.filter(lambda label, review: review != '')\n",
        "\n",
        "for label, text in new_text_ds:\n",
        "    print(text)\n",
        "    print(label)"
      ],
      "metadata": {
        "colab": {
          "base_uri": "https://localhost:8080/"
        },
        "id": "mkctREqrMyBS",
        "outputId": "c877d59c-daaa-42dc-8efe-501c9eaba0b8"
      },
      "execution_count": 9,
      "outputs": [
        {
          "output_type": "stream",
          "name": "stdout",
          "text": [
            "tf.Tensor(b'worst', shape=(), dtype=string)\n",
            "tf.Tensor(b'negative', shape=(), dtype=string)\n",
            "tf.Tensor(b'bad', shape=(), dtype=string)\n",
            "tf.Tensor(b'negative', shape=(), dtype=string)\n",
            "tf.Tensor(b'nice', shape=(), dtype=string)\n",
            "tf.Tensor(b'positive', shape=(), dtype=string)\n",
            "tf.Tensor(b'good', shape=(), dtype=string)\n",
            "tf.Tensor(b'positive', shape=(), dtype=string)\n"
          ]
        }
      ]
    },
    {
      "cell_type": "code",
      "source": [
        "t_ds = text_ds.map(text_processed).filter(lambda label, review: review != '').shuffle(3)\n",
        "\n",
        "for label, text in t_ds:\n",
        "    print(f\"Text: {text}\")\n",
        "    print(f'Label: {label}')"
      ],
      "metadata": {
        "colab": {
          "base_uri": "https://localhost:8080/"
        },
        "id": "cwDw1622M09D",
        "outputId": "d24b5f63-ec50-45dd-82ce-273892d7629e"
      },
      "execution_count": 10,
      "outputs": [
        {
          "output_type": "stream",
          "name": "stdout",
          "text": [
            "Text: b'bad'\n",
            "Label: b'negative'\n",
            "Text: b'worst'\n",
            "Label: b'negative'\n",
            "Text: b'nice'\n",
            "Label: b'positive'\n",
            "Text: b'good'\n",
            "Label: b'positive'\n"
          ]
        }
      ]
    },
    {
      "cell_type": "markdown",
      "source": [
        "<h1>PIPELINE PERFORMANCE</h1>"
      ],
      "metadata": {
        "id": "sjMJq8a3M51Z"
      }
    },
    {
      "cell_type": "markdown",
      "source": [
        "<h2>Prefecth</h2>"
      ],
      "metadata": {
        "id": "kRZL-xQbQMAz"
      }
    },
    {
      "cell_type": "code",
      "source": [
        "# first let's create a class which behaves the same way when we open files from the disk\n",
        "\n",
        "class FileDataset(tf.data.Dataset):\n",
        "    \n",
        "    def read_files_in_batches(num_samples):\n",
        "#         open file\n",
        "        time.sleep(0.03)\n",
        "        for sample_idx in range(num_samples):\n",
        "        # Reading data (line, record) from the file\n",
        "            time.sleep(0.015)\n",
        "            \n",
        "            yield (sample_idx, )\n",
        "            \n",
        "    def __new__(cls, num_samples=3):\n",
        "#         whenever a new object is created this method will run\n",
        "        return tf.data.Dataset.from_generator(\n",
        "            cls.read_files_in_batches,\n",
        "            output_signature = tf.TensorSpec(shape=(1, ), dtype=tf.int64),\n",
        "            args=(num_samples,)\n",
        "        )\n",
        "        "
      ],
      "metadata": {
        "id": "-zeDthCoM1d2"
      },
      "execution_count": 13,
      "outputs": []
    },
    {
      "cell_type": "code",
      "source": [
        "def benchmark(dataset, num_epochs=2):\n",
        "    for epoch_num in range(num_epochs):\n",
        "        for sample in dataset:\n",
        "            # training step\n",
        "            time.sleep(0.01)"
      ],
      "metadata": {
        "id": "c_hLDKFVNAyr"
      },
      "execution_count": 11,
      "outputs": []
    },
    {
      "cell_type": "code",
      "source": [
        "%%timeit\n",
        "benchmark(FileDataset())"
      ],
      "metadata": {
        "colab": {
          "base_uri": "https://localhost:8080/"
        },
        "id": "6aLPOfQuNDFU",
        "outputId": "4163b6e0-2e3e-449b-9aa5-b57936497855"
      },
      "execution_count": 14,
      "outputs": [
        {
          "output_type": "stream",
          "name": "stdout",
          "text": [
            "1 loop, best of 5: 262 ms per loop\n"
          ]
        }
      ]
    },
    {
      "cell_type": "code",
      "source": [
        "%%timeit\n",
        "benchmark(FileDataset().prefetch(1))"
      ],
      "metadata": {
        "colab": {
          "base_uri": "https://localhost:8080/"
        },
        "id": "zqQ_PCKcNIuZ",
        "outputId": "b904cb38-1d7b-420e-af04-069108235267"
      },
      "execution_count": 15,
      "outputs": [
        {
          "output_type": "stream",
          "name": "stdout",
          "text": [
            "1 loop, best of 5: 258 ms per loop\n"
          ]
        }
      ]
    },
    {
      "cell_type": "code",
      "source": [
        "%%timeit\n",
        "benchmark(FileDataset().prefetch(tf.data.AUTOTUNE))"
      ],
      "metadata": {
        "colab": {
          "base_uri": "https://localhost:8080/"
        },
        "id": "-cLSaEoGNLov",
        "outputId": "b96e0f3e-98d1-4730-8eb2-7ded7b19eb7b"
      },
      "execution_count": 47,
      "outputs": [
        {
          "output_type": "stream",
          "name": "stdout",
          "text": [
            "1 loop, best of 5: 222 ms per loop\n"
          ]
        }
      ]
    },
    {
      "cell_type": "markdown",
      "source": [
        "<h2>Cache</h2>"
      ],
      "metadata": {
        "id": "YTH0HJ7UQQEC"
      }
    },
    {
      "cell_type": "code",
      "source": [
        "dataset = tf.data.Dataset.range(5)\n",
        "list(dataset.as_numpy_iterator())"
      ],
      "metadata": {
        "colab": {
          "base_uri": "https://localhost:8080/"
        },
        "id": "3ilA1MXSQDVK",
        "outputId": "d40b4a68-8b0d-4097-ac92-f577eb8eb938"
      },
      "execution_count": 49,
      "outputs": [
        {
          "output_type": "execute_result",
          "data": {
            "text/plain": [
              "[0, 1, 2, 3, 4]"
            ]
          },
          "metadata": {},
          "execution_count": 49
        }
      ]
    },
    {
      "cell_type": "code",
      "source": [
        "dataset = dataset.map(lambda x: x**2)\n",
        "list(dataset.as_numpy_iterator())"
      ],
      "metadata": {
        "colab": {
          "base_uri": "https://localhost:8080/"
        },
        "id": "xuJFLox3Qfbs",
        "outputId": "08e41c20-e6e3-4e29-f0e8-32d8f6757992"
      },
      "execution_count": 50,
      "outputs": [
        {
          "output_type": "execute_result",
          "data": {
            "text/plain": [
              "[0, 1, 4, 9, 16]"
            ]
          },
          "metadata": {},
          "execution_count": 50
        }
      ]
    },
    {
      "cell_type": "code",
      "source": [
        "def mapped_function(s):\n",
        "    tf.py_function(lambda: time.sleep(0.03), [], ())\n",
        "    return s"
      ],
      "metadata": {
        "id": "3zeLRqepQqhV"
      },
      "execution_count": 53,
      "outputs": []
    },
    {
      "cell_type": "code",
      "source": [
        "%%timeit -n1 -r1\n",
        "benchmark(FileDataset().map(mapped_function), 5)"
      ],
      "metadata": {
        "colab": {
          "base_uri": "https://localhost:8080/"
        },
        "id": "nTf3jQEtRAzN",
        "outputId": "19471b85-adc3-40c0-99b1-6418c3d8ac2e"
      },
      "execution_count": 56,
      "outputs": [
        {
          "output_type": "stream",
          "name": "stdout",
          "text": [
            "1 loop, best of 1: 1.23 s per loop\n"
          ]
        }
      ]
    },
    {
      "cell_type": "code",
      "source": [
        "%%timeit -n1 -r1\n",
        "benchmark(FileDataset().map(mapped_function).cache(), 5)"
      ],
      "metadata": {
        "colab": {
          "base_uri": "https://localhost:8080/"
        },
        "id": "CrcbqqgcRXaY",
        "outputId": "ca7056cb-2324-45cb-ca07-6772ca8996d7"
      },
      "execution_count": 57,
      "outputs": [
        {
          "output_type": "stream",
          "name": "stdout",
          "text": [
            "1 loop, best of 1: 388 ms per loop\n"
          ]
        }
      ]
    },
    {
      "cell_type": "markdown",
      "source": [
        "THERE WAS A HUGE IMPROVEMENT IN RUNNING TIME AS CATCHE SAVES THE PREVIOUSLY LOADED DATA"
      ],
      "metadata": {
        "id": "5R0ktCusRlpr"
      }
    }
  ],
  "metadata": {
    "accelerator": "GPU",
    "colab": {
      "collapsed_sections": [],
      "name": "deep_learning_pipeline.ipynb",
      "provenance": [],
      "include_colab_link": true
    },
    "kernelspec": {
      "display_name": "Python 3",
      "name": "python3"
    }
  },
  "nbformat": 4,
  "nbformat_minor": 0
}