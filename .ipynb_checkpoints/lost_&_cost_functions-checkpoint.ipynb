{
 "cells": [
  {
   "cell_type": "code",
   "execution_count": 1,
   "id": "f119e2bc",
   "metadata": {},
   "outputs": [],
   "source": [
    "import numpy as np\n",
    "\n",
    "y_predicted = np.array([1, 1, 0, 0, 1])\n",
    "y_true = np.array([0.30, 0.7, 1, 0, 0.5])"
   ]
  },
  {
   "cell_type": "markdown",
   "id": "9ecc9473",
   "metadata": {},
   "source": [
    "<h1>Mean squared error with pure python</h1>"
   ]
  },
  {
   "cell_type": "code",
   "execution_count": 2,
   "id": "9430b31d",
   "metadata": {},
   "outputs": [
    {
     "name": "stdout",
     "output_type": "stream",
     "text": [
      "total loss:  1.83\n",
      "mean_square_erros:  0.366\n"
     ]
    }
   ],
   "source": [
    "def mean_squared_error(y_true, y_predicted):\n",
    "    total_loss = 0\n",
    "    \n",
    "    for y_tr, y_pred in zip(y_true, y_predicted):\n",
    "        loss = (y_tr - y_pred) ** 2\n",
    "        total_loss += loss\n",
    "        \n",
    "    print(\"total loss: \",total_loss)\n",
    "    print(\"mean_square_erros: \", total_loss/ len(y_true))\n",
    "    \n",
    "mean_squared_error(y_true, y_predicted)"
   ]
  },
  {
   "cell_type": "markdown",
   "id": "e67a29af",
   "metadata": {},
   "source": [
    "<h1>Mean squared error with numpy</h1>"
   ]
  },
  {
   "cell_type": "code",
   "execution_count": 4,
   "id": "51a5c3bd",
   "metadata": {},
   "outputs": [
    {
     "name": "stdout",
     "output_type": "stream",
     "text": [
      "total loss:  1.83\n",
      "mean_absolute_erros:  0.366\n"
     ]
    }
   ],
   "source": [
    "def mean_squared_error(y_true, y_predicted):\n",
    "    total_loss = np.sum((y_true - y_predicted)**2)\n",
    "    \n",
    "    print(\"total loss: \",total_loss)\n",
    "    print(\"mean_absolute_erros: \", total_loss/ len(y_true))\n",
    "\n",
    "mean_squared_error(y_true, y_predicted)"
   ]
  },
  {
   "cell_type": "markdown",
   "id": "c9714e8f",
   "metadata": {},
   "source": [
    "<h1> Log loss or Binary cross entropy</h1>"
   ]
  },
  {
   "cell_type": "code",
   "execution_count": 5,
   "id": "8bc9aef1",
   "metadata": {},
   "outputs": [
    {
     "name": "stdout",
     "output_type": "stream",
     "text": [
      "logloss error:  17.2696280766844\n"
     ]
    }
   ],
   "source": [
    "def binary_entropy_error(y_true, y_predicted):\n",
    "    \n",
    "    epsilon = 1e-15\n",
    "\n",
    "    y_predicted_new = [max(epsilon, num) for num in y_predicted] # since log(0) in infinite so we are changing it to something\n",
    "                                                                                    # close to zero\n",
    "        \n",
    "    y_predicted_new = [min(1-epsilon, num) for num in y_predicted_new] # the same is for 1 as log(1-x) is infinite\n",
    "    \n",
    "    y_predicted_new = np.array(y_predicted_new)\n",
    "    error = -np.mean((y_true* np.log(y_predicted_new) + (1 - y_true) * np.log(1- y_predicted_new)))\n",
    "    \n",
    "    print(\"logloss error: \", error)\n",
    "    \n",
    "binary_entropy_error(y_true, y_predicted)"
   ]
  }
 ],
 "metadata": {
  "kernelspec": {
   "display_name": "Python 3",
   "language": "python",
   "name": "python3"
  },
  "language_info": {
   "codemirror_mode": {
    "name": "ipython",
    "version": 3
   },
   "file_extension": ".py",
   "mimetype": "text/x-python",
   "name": "python",
   "nbconvert_exporter": "python",
   "pygments_lexer": "ipython3",
   "version": "3.8.11"
  }
 },
 "nbformat": 4,
 "nbformat_minor": 5
}
