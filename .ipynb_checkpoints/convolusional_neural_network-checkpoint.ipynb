{
 "cells": [
  {
   "cell_type": "markdown",
   "metadata": {
    "colab_type": "text",
    "id": "view-in-github"
   },
   "source": [
    "<a href=\"https://colab.research.google.com/github/shoabahamed/codebasics-deep-learning-course/blob/main/convolusional_neural_network.ipynb\" target=\"_parent\"><img src=\"https://colab.research.google.com/assets/colab-badge.svg\" alt=\"Open In Colab\"/></a>"
   ]
  },
  {
   "cell_type": "code",
   "execution_count": null,
   "metadata": {
    "id": "GBH71rbWqhH9"
   },
   "outputs": [],
   "source": [
    "import pandas as pdb\n",
    "import matplotlib.pyplot as plt\n",
    "from sklearn.model_selection import train_test_split\n",
    "from sklearn.metrics import classification_report, confusion_matrix\n",
    "from tensorflow import keras\n",
    "from sklearn.preprocessing import MinMaxScaler\n",
    "import numpy as np\n",
    "import tensorflow as tf"
   ]
  },
  {
   "cell_type": "code",
   "execution_count": null,
   "metadata": {
    "colab": {
     "base_uri": "https://localhost:8080/"
    },
    "id": "FYmDgjAWqnPT",
    "outputId": "f69b0c5d-4fc1-4c76-cfcf-86ae8d2addd3"
   },
   "outputs": [
    {
     "name": "stdout",
     "output_type": "stream",
     "text": [
      "Downloading data from https://storage.googleapis.com/tensorflow/tf-keras-datasets/mnist.npz\n",
      "11493376/11490434 [==============================] - 0s 0us/step\n",
      "11501568/11490434 [==============================] - 0s 0us/step\n"
     ]
    }
   ],
   "source": [
    "(x_train, y_train), (x_test, y_test) = keras.datasets.mnist.load_data()"
   ]
  },
  {
   "cell_type": "code",
   "execution_count": null,
   "metadata": {
    "colab": {
     "base_uri": "https://localhost:8080/"
    },
    "id": "hIqNU60prHsU",
    "outputId": "207ded22-2e8d-4a4f-bc10-4c8402664414"
   },
   "outputs": [
    {
     "data": {
      "text/plain": [
       "(60000, 28, 28)"
      ]
     },
     "execution_count": 6,
     "metadata": {},
     "output_type": "execute_result"
    }
   ],
   "source": [
    "x_train.shape"
   ]
  },
  {
   "cell_type": "code",
   "execution_count": null,
   "metadata": {
    "id": "VWQQRY9UrNVW"
   },
   "outputs": [],
   "source": [
    "def show_img(x, index):\n",
    "    plt.figure(figsize=(5, 3))\n",
    "    plt.imshow(x[index])\n",
    "    plt.show()"
   ]
  },
  {
   "cell_type": "code",
   "execution_count": null,
   "metadata": {
    "colab": {
     "base_uri": "https://localhost:8080/",
     "height": 212
    },
    "id": "39YI4j2fr5yh",
    "outputId": "f14d228a-0482-481c-d311-3fc1ffff6773"
   },
   "outputs": [
    {
     "data": {
      "image/png": "[encoded data removed]",
      "text/plain": [
       "<Figure size 360x216 with 1 Axes>"
      ]
     },
     "metadata": {
      "needs_background": "light"
     },
     "output_type": "display_data"
    }
   ],
   "source": [
    "show_img(x_train, 0)"
   ]
  },
  {
   "cell_type": "markdown",
   "metadata": {
    "id": "P5l_7_tIsCxk"
   },
   "source": [
    "CREATING ANN OR ARTIFICAL NEURAL NETWORK"
   ]
  },
  {
   "cell_type": "code",
   "execution_count": null,
   "metadata": {
    "id": "BIE26GNbr_2o"
   },
   "outputs": [],
   "source": [
    "def get_ann():\n",
    "    ann = keras.Sequential([\n",
    "\n",
    "                  keras.layers.Flatten(input_shape=(28, 28)),\n",
    "                  keras.layers.Dense(3000, activation='relu'),\n",
    "                  keras.layers.Dense(1000, activation='relu'),\n",
    "                  keras.layers.Dense(10, activation='sigmoid')\n",
    "      ])\n",
    "\n",
    "    ann.compile(\n",
    "          optimizer = 'adam',\n",
    "          loss = 'sparse_categorical_crossentropy',\n",
    "          metrics = ['accuracy']\n",
    "      )\n",
    "\n",
    "    return ann"
   ]
  },
  {
   "cell_type": "code",
   "execution_count": null,
   "metadata": {
    "colab": {
     "base_uri": "https://localhost:8080/"
    },
    "id": "agK3drlnsj6Z",
    "outputId": "fc701763-3472-49b3-809b-c892a6ac013b"
   },
   "outputs": [
    {
     "name": "stdout",
     "output_type": "stream",
     "text": [
      "Epoch 1/3\n",
      "1875/1875 [==============================] - 6s 3ms/step - loss: 2.0502 - accuracy: 0.9151\n",
      "Epoch 2/3\n",
      "1875/1875 [==============================] - 5s 3ms/step - loss: 0.2046 - accuracy: 0.9479\n",
      "Epoch 3/3\n",
      "1875/1875 [==============================] - 5s 3ms/step - loss: 0.1816 - accuracy: 0.9544\n",
      "\n",
      "313/313 [==============================] - 1s 3ms/step - loss: 0.1305 - accuracy: 0.9649\n",
      "[0.13053973019123077, 0.964900016784668]\n",
      "              precision    recall  f1-score   support\n",
      "\n",
      "           0       0.81      0.99      0.89       980\n",
      "           1       0.87      0.99      0.93      1135\n",
      "           2       0.93      0.93      0.93      1032\n",
      "           3       0.86      0.94      0.90      1010\n",
      "           4       0.78      0.76      0.77       982\n",
      "           5       0.94      0.94      0.94       892\n",
      "           6       0.95      0.94      0.95       958\n",
      "           7       0.97      0.73      0.83      1028\n",
      "           8       0.94      0.97      0.95       974\n",
      "           9       0.96      0.75      0.84      1009\n",
      "\n",
      "    accuracy                           0.89     10000\n",
      "   macro avg       0.90      0.89      0.89     10000\n",
      "weighted avg       0.90      0.89      0.89     10000\n",
      "\n",
      "1 loop, best of 1: 18.7 s per loop\n"
     ]
    }
   ],
   "source": [
    "%%timeit -n1 -r1\n",
    "with tf.device('/GPU:0'):\n",
    "    model_ann = get_ann()\n",
    "    model_ann.fit(x_train, y_train, epochs=3)\n",
    "    print()\n",
    "\n",
    "    y_pred = [np.argmax(y_p) for y_p in model_ann.predict(x_test)]\n",
    "    print(model_ann.evaluate(x_test, y_test))\n",
    "    print(classification_report(y_test, y_pred))"
   ]
  },
  {
   "cell_type": "markdown",
   "metadata": {
    "id": "SGrhb_QJtejI"
   },
   "source": [
    "CREATING CNN OR CONVOLUTIONAL NEURAL NETWORK"
   ]
  },
  {
   "cell_type": "code",
   "execution_count": null,
   "metadata": {
    "id": "6W0DdE7MteDB"
   },
   "outputs": [],
   "source": [
    "def get_cnn():\n",
    "    cnn = keras.Sequential([\n",
    "                              # convolusional part\n",
    "                              keras.layers.Conv1D(filters=28, kernel_size=3, input_shape=(28, 28), activation='relu'),\n",
    "                              keras.layers.MaxPooling1D(2),\n",
    "\n",
    "                              keras.layers.Conv1D(filters=16, kernel_size=3, activation='relu'),\n",
    "                              keras.layers.MaxPooling1D(2),\n",
    "\n",
    "                              # cnn part\n",
    "\n",
    "\n",
    "                              keras.layers.Flatten(),\n",
    "                              keras.layers.Dense(1000, activation='relu'),\n",
    "                              keras.layers.Dense(10, activation='softmax')\n",
    "\n",
    "        ])\n",
    "\n",
    "    cnn.compile(\n",
    "            optimizer = 'adam',\n",
    "            loss = 'sparse_categorical_crossentropy',\n",
    "            metrics = ['accuracy']\n",
    "       )\n",
    "\n",
    "    return cnn\n"
   ]
  },
  {
   "cell_type": "code",
   "execution_count": null,
   "metadata": {
    "colab": {
     "base_uri": "https://localhost:8080/",
     "height": 698
    },
    "id": "LhDX-44nyEke",
    "outputId": "b6e6dc9b-dff4-4b78-e014-f56130e10e47"
   },
   "outputs": [
    {
     "name": "stdout",
     "output_type": "stream",
     "text": [
      "Epoch 1/3\n",
      "1875/1875 [==============================] - 6s 3ms/step - loss: 0.5840 - accuracy: 0.8756\n",
      "Epoch 2/3\n",
      "1875/1875 [==============================] - 6s 3ms/step - loss: 0.1574 - accuracy: 0.9531\n",
      "Epoch 3/3\n",
      "1875/1875 [==============================] - 6s 3ms/step - loss: 0.1189 - accuracy: 0.9656\n",
      "\n",
      "313/313 [==============================] - 1s 2ms/step - loss: 0.1160 - accuracy: 0.9684\n",
      "[0.11597765237092972, 0.9684000015258789]\n",
      "              precision    recall  f1-score   support\n",
      "\n",
      "           0       0.98      0.99      0.98       980\n",
      "           1       0.99      0.98      0.99      1135\n",
      "           2       0.94      0.98      0.96      1032\n",
      "           3       0.98      0.94      0.96      1010\n",
      "           4       0.98      0.96      0.97       982\n",
      "           5       0.94      0.97      0.96       892\n",
      "           6       0.97      0.98      0.97       958\n",
      "           7       0.98      0.96      0.97      1028\n",
      "           8       0.97      0.97      0.97       974\n",
      "           9       0.96      0.95      0.96      1009\n",
      "\n",
      "    accuracy                           0.97     10000\n",
      "   macro avg       0.97      0.97      0.97     10000\n",
      "weighted avg       0.97      0.97      0.97     10000\n",
      "\n"
     ]
    },
    {
     "data": {
      "image/png": "[encoded data removed]",
      "text/plain": [
       "<Figure size 360x216 with 1 Axes>"
      ]
     },
     "metadata": {
      "needs_background": "light"
     },
     "output_type": "display_data"
    },
    {
     "name": "stdout",
     "output_type": "stream",
     "text": [
      "The digit is 7\n",
      "1 loop, best of 1: 19.5 s per loop\n"
     ]
    }
   ],
   "source": [
    "%%timeit -n1 -r1\n",
    "\n",
    "with tf.device('/GPU:0'):\n",
    "    model_cnn = get_cnn()\n",
    "    model_cnn.fit(x_train, y_train, epochs=3)\n",
    "    print()\n",
    "\n",
    "    y_pred = [np.argmax(y_p) for y_p in model_cnn.predict(x_test)]\n",
    "    print(model_cnn.evaluate(x_test, y_test))\n",
    "    print(classification_report(y_test, y_pred))\n",
    "    show_img(x_test, 0)\n",
    "    print(f'The digit is {y_pred[0]}')"
   ]
  },
  {
   "cell_type": "markdown",
   "metadata": {
    "id": "9VLuA65W-nRF"
   },
   "source": [
    "CNN IS MUCH BETTER THAN ANN"
   ]
  }
 ],
 "metadata": {
  "accelerator": "GPU",
  "colab": {
   "collapsed_sections": [],
   "include_colab_link": true,
   "name": "convolusional_neural_network.ipynb",
   "provenance": []
  },
  "kernelspec": {
   "display_name": "Python 3 (ipykernel)",
   "language": "python",
   "name": "python3"
  },
  "language_info": {
   "codemirror_mode": {
    "name": "ipython",
    "version": 3
   },
   "file_extension": ".py",
   "mimetype": "text/x-python",
   "name": "python",
   "nbconvert_exporter": "python",
   "pygments_lexer": "ipython3",
   "version": "3.9.12"
  }
 },
 "nbformat": 4,
 "nbformat_minor": 1
}
