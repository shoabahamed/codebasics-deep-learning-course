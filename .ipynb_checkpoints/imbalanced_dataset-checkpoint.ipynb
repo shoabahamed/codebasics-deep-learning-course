{
 "cells": [
  {
   "cell_type": "code",
   "execution_count": 1,
   "id": "568a7f29",
   "metadata": {},
   "outputs": [],
   "source": [
    "import pandas as pd\n",
    "import seaborn as sns\n",
    "import matplotlib.pyplot as plt\n",
    "from sklearn.model_selection import train_test_split\n",
    "from sklearn.metrics import classification_report, confusion_matrix\n",
    "from tensorflow import keras\n",
    "from sklearn.preprocessing import MinMaxScaler\n",
    "import numpy as np"
   ]
  },
  {
   "cell_type": "markdown",
   "id": "a61213c2",
   "metadata": {},
   "source": [
    "<h1>Files taken from the previous bank_customer_prediction notebook</h1>"
   ]
  },
  {
   "cell_type": "code",
   "execution_count": 2,
   "id": "451d1a87",
   "metadata": {},
   "outputs": [
    {
     "data": {
      "text/html": [
       "<div>\n",
       "<style scoped>\n",
       "    .dataframe tbody tr th:only-of-type {\n",
       "        vertical-align: middle;\n",
       "    }\n",
       "\n",
       "    .dataframe tbody tr th {\n",
       "        vertical-align: top;\n",
       "    }\n",
       "\n",
       "    .dataframe thead th {\n",
       "        text-align: right;\n",
       "    }\n",
       "</style>\n",
       "<table border=\"1\" class=\"dataframe\">\n",
       "  <thead>\n",
       "    <tr style=\"text-align: right;\">\n",
       "      <th></th>\n",
       "      <th>CreditScore</th>\n",
       "      <th>Age</th>\n",
       "      <th>Tenure</th>\n",
       "      <th>Balance</th>\n",
       "      <th>NumOfProducts</th>\n",
       "      <th>HasCrCard</th>\n",
       "      <th>IsActiveMember</th>\n",
       "      <th>EstimatedSalary</th>\n",
       "      <th>Exited</th>\n",
       "      <th>Germany</th>\n",
       "      <th>Spain</th>\n",
       "    </tr>\n",
       "  </thead>\n",
       "  <tbody>\n",
       "    <tr>\n",
       "      <th>0</th>\n",
       "      <td>0.538</td>\n",
       "      <td>0.324324</td>\n",
       "      <td>2</td>\n",
       "      <td>0.000000</td>\n",
       "      <td>1</td>\n",
       "      <td>1</td>\n",
       "      <td>1</td>\n",
       "      <td>0.506500</td>\n",
       "      <td>1</td>\n",
       "      <td>0</td>\n",
       "      <td>0</td>\n",
       "    </tr>\n",
       "    <tr>\n",
       "      <th>1</th>\n",
       "      <td>0.516</td>\n",
       "      <td>0.310811</td>\n",
       "      <td>1</td>\n",
       "      <td>0.334031</td>\n",
       "      <td>1</td>\n",
       "      <td>0</td>\n",
       "      <td>1</td>\n",
       "      <td>0.562501</td>\n",
       "      <td>0</td>\n",
       "      <td>0</td>\n",
       "      <td>1</td>\n",
       "    </tr>\n",
       "    <tr>\n",
       "      <th>2</th>\n",
       "      <td>0.304</td>\n",
       "      <td>0.324324</td>\n",
       "      <td>8</td>\n",
       "      <td>0.636357</td>\n",
       "      <td>3</td>\n",
       "      <td>1</td>\n",
       "      <td>0</td>\n",
       "      <td>0.569450</td>\n",
       "      <td>1</td>\n",
       "      <td>0</td>\n",
       "      <td>0</td>\n",
       "    </tr>\n",
       "    <tr>\n",
       "      <th>3</th>\n",
       "      <td>0.698</td>\n",
       "      <td>0.283784</td>\n",
       "      <td>1</td>\n",
       "      <td>0.000000</td>\n",
       "      <td>2</td>\n",
       "      <td>0</td>\n",
       "      <td>0</td>\n",
       "      <td>0.468867</td>\n",
       "      <td>0</td>\n",
       "      <td>0</td>\n",
       "      <td>0</td>\n",
       "    </tr>\n",
       "    <tr>\n",
       "      <th>4</th>\n",
       "      <td>1.000</td>\n",
       "      <td>0.337838</td>\n",
       "      <td>2</td>\n",
       "      <td>0.500246</td>\n",
       "      <td>1</td>\n",
       "      <td>1</td>\n",
       "      <td>1</td>\n",
       "      <td>0.395113</td>\n",
       "      <td>0</td>\n",
       "      <td>0</td>\n",
       "      <td>1</td>\n",
       "    </tr>\n",
       "  </tbody>\n",
       "</table>\n",
       "</div>"
      ],
      "text/plain": [
       "   CreditScore       Age  Tenure   Balance  NumOfProducts  HasCrCard  \\\n",
       "0        0.538  0.324324       2  0.000000              1          1   \n",
       "1        0.516  0.310811       1  0.334031              1          0   \n",
       "2        0.304  0.324324       8  0.636357              3          1   \n",
       "3        0.698  0.283784       1  0.000000              2          0   \n",
       "4        1.000  0.337838       2  0.500246              1          1   \n",
       "\n",
       "   IsActiveMember  EstimatedSalary  Exited  Germany  Spain  \n",
       "0               1         0.506500       1        0      0  \n",
       "1               1         0.562501       0        0      1  \n",
       "2               0         0.569450       1        0      0  \n",
       "3               0         0.468867       0        0      0  \n",
       "4               1         0.395113       0        0      1  "
      ]
     },
     "execution_count": 2,
     "metadata": {},
     "output_type": "execute_result"
    }
   ],
   "source": [
    "df = pd.read_csv('./files/cleaned_bank_dataset.csv')\n",
    "df.head()"
   ]
  },
  {
   "cell_type": "code",
   "execution_count": 5,
   "id": "9b76d32e",
   "metadata": {},
   "outputs": [
    {
     "name": "stdout",
     "output_type": "stream",
     "text": [
      "<class 'pandas.core.frame.DataFrame'>\n",
      "RangeIndex: 9996 entries, 0 to 9995\n",
      "Data columns (total 11 columns):\n",
      " #   Column           Non-Null Count  Dtype  \n",
      "---  ------           --------------  -----  \n",
      " 0   CreditScore      9996 non-null   float64\n",
      " 1   Age              9996 non-null   float64\n",
      " 2   Tenure           9996 non-null   int64  \n",
      " 3   Balance          9996 non-null   float64\n",
      " 4   NumOfProducts    9996 non-null   int64  \n",
      " 5   HasCrCard        9996 non-null   int64  \n",
      " 6   IsActiveMember   9996 non-null   int64  \n",
      " 7   EstimatedSalary  9996 non-null   float64\n",
      " 8   Exited           9996 non-null   int64  \n",
      " 9   Germany          9996 non-null   int64  \n",
      " 10  Spain            9996 non-null   int64  \n",
      "dtypes: float64(4), int64(7)\n",
      "memory usage: 859.2 KB\n"
     ]
    }
   ],
   "source": [
    "df.info()"
   ]
  },
  {
   "cell_type": "code",
   "execution_count": 7,
   "id": "d023b1cd",
   "metadata": {},
   "outputs": [
    {
     "data": {
      "text/plain": [
       "0    7961\n",
       "1    2035\n",
       "Name: Exited, dtype: int64"
      ]
     },
     "execution_count": 7,
     "metadata": {},
     "output_type": "execute_result"
    }
   ],
   "source": [
    "df['Exited'].value_counts()"
   ]
  },
  {
   "cell_type": "code",
   "execution_count": 3,
   "id": "00652815",
   "metadata": {},
   "outputs": [],
   "source": [
    "def model(x_train, y_train, x_test, y_test, epochs=5):\n",
    "    model = keras.Sequential([\n",
    "        keras.layers.Dense(1500, input_shape=(10, ), activation='relu'),\n",
    "        keras.layers.Dense(100, activation='relu'),\n",
    "        keras.layers.Dense(10, activation='relu'),\n",
    "        keras.layers.Dense(1, activation='sigmoid')\n",
    "    ])\n",
    "\n",
    "    model.compile(\n",
    "        optimizer = 'adam',\n",
    "        loss = 'binary_crossentropy',\n",
    "        metrics = ['accuracy']\n",
    "    )\n",
    "    \n",
    "    model.fit(x_train, y_train, epochs=epochs)\n",
    "    model.evaluate(x_test, y_test)\n",
    "    print()\n",
    "    print()\n",
    "    y_pred = np.round(model.predict(x_test))\n",
    "    print(classification_report(y_test, y_pred))\n",
    "    \n",
    "    return y_pred"
   ]
  },
  {
   "cell_type": "code",
   "execution_count": 34,
   "id": "69330e48",
   "metadata": {},
   "outputs": [
    {
     "data": {
      "text/plain": [
       "0    6387\n",
       "1    1609\n",
       "Name: Exited, dtype: int64"
      ]
     },
     "execution_count": 34,
     "metadata": {},
     "output_type": "execute_result"
    }
   ],
   "source": [
    "x = df.drop(\"Exited\", axis=1)\n",
    "y = df['Exited']\n",
    "\n",
    "x_train, x_test, y_train, y_test = train_test_split(x, y, random_state=15, test_size=0.2)\n",
    "y_train.value_counts()"
   ]
  },
  {
   "cell_type": "code",
   "execution_count": 39,
   "id": "5cfa79de",
   "metadata": {},
   "outputs": [
    {
     "name": "stdout",
     "output_type": "stream",
     "text": [
      "Epoch 1/50\n",
      "250/250 [==============================] - 1s 2ms/step - loss: 0.4711 - accuracy: 0.8007\n",
      "Epoch 2/50\n",
      "250/250 [==============================] - 1s 2ms/step - loss: 0.4249 - accuracy: 0.8199\n",
      "Epoch 3/50\n",
      "250/250 [==============================] - 1s 3ms/step - loss: 0.3979 - accuracy: 0.8308\n",
      "Epoch 4/50\n",
      "250/250 [==============================] - 1s 3ms/step - loss: 0.3806 - accuracy: 0.8420\n",
      "Epoch 5/50\n",
      "250/250 [==============================] - 1s 2ms/step - loss: 0.3657 - accuracy: 0.8479\n",
      "Epoch 6/50\n",
      "250/250 [==============================] - 1s 2ms/step - loss: 0.3620 - accuracy: 0.8537\n",
      "Epoch 7/50\n",
      "250/250 [==============================] - 1s 2ms/step - loss: 0.3535 - accuracy: 0.8571\n",
      "Epoch 8/50\n",
      "250/250 [==============================] - 1s 2ms/step - loss: 0.3521 - accuracy: 0.8583\n",
      "Epoch 9/50\n",
      "250/250 [==============================] - 1s 3ms/step - loss: 0.3504 - accuracy: 0.8568\n",
      "Epoch 10/50\n",
      "250/250 [==============================] - 1s 3ms/step - loss: 0.3476 - accuracy: 0.8607\n",
      "Epoch 11/50\n",
      "250/250 [==============================] - 1s 2ms/step - loss: 0.3455 - accuracy: 0.8594\n",
      "Epoch 12/50\n",
      "250/250 [==============================] - 1s 2ms/step - loss: 0.3446 - accuracy: 0.8604\n",
      "Epoch 13/50\n",
      "250/250 [==============================] - 1s 3ms/step - loss: 0.3409 - accuracy: 0.8614\n",
      "Epoch 14/50\n",
      "250/250 [==============================] - 1s 3ms/step - loss: 0.3423 - accuracy: 0.8613\n",
      "Epoch 15/50\n",
      "250/250 [==============================] - 1s 2ms/step - loss: 0.3421 - accuracy: 0.8606\n",
      "Epoch 16/50\n",
      "250/250 [==============================] - 1s 2ms/step - loss: 0.3370 - accuracy: 0.8653\n",
      "Epoch 17/50\n",
      "250/250 [==============================] - 1s 2ms/step - loss: 0.3363 - accuracy: 0.8636\n",
      "Epoch 18/50\n",
      "250/250 [==============================] - 1s 2ms/step - loss: 0.3345 - accuracy: 0.8652\n",
      "Epoch 19/50\n",
      "250/250 [==============================] - 1s 3ms/step - loss: 0.3343 - accuracy: 0.8631\n",
      "Epoch 20/50\n",
      "250/250 [==============================] - 1s 3ms/step - loss: 0.3319 - accuracy: 0.8672\n",
      "Epoch 21/50\n",
      "250/250 [==============================] - 1s 3ms/step - loss: 0.3330 - accuracy: 0.8648\n",
      "Epoch 22/50\n",
      "250/250 [==============================] - 1s 2ms/step - loss: 0.3315 - accuracy: 0.8663\n",
      "Epoch 23/50\n",
      "250/250 [==============================] - 1s 3ms/step - loss: 0.3276 - accuracy: 0.8661\n",
      "Epoch 24/50\n",
      "250/250 [==============================] - 1s 3ms/step - loss: 0.3294 - accuracy: 0.8673\n",
      "Epoch 25/50\n",
      "250/250 [==============================] - 1s 3ms/step - loss: 0.3290 - accuracy: 0.8654\n",
      "Epoch 26/50\n",
      "250/250 [==============================] - 1s 3ms/step - loss: 0.3243 - accuracy: 0.8689\n",
      "Epoch 27/50\n",
      "250/250 [==============================] - 1s 3ms/step - loss: 0.3244 - accuracy: 0.8681\n",
      "Epoch 28/50\n",
      "250/250 [==============================] - 1s 3ms/step - loss: 0.3262 - accuracy: 0.8666\n",
      "Epoch 29/50\n",
      "250/250 [==============================] - 1s 3ms/step - loss: 0.3235 - accuracy: 0.8693\n",
      "Epoch 30/50\n",
      "250/250 [==============================] - 1s 3ms/step - loss: 0.3222 - accuracy: 0.8692\n",
      "Epoch 31/50\n",
      "250/250 [==============================] - 1s 3ms/step - loss: 0.3216 - accuracy: 0.8676\n",
      "Epoch 32/50\n",
      "250/250 [==============================] - 1s 2ms/step - loss: 0.3211 - accuracy: 0.8683\n",
      "Epoch 33/50\n",
      "250/250 [==============================] - 1s 2ms/step - loss: 0.3211 - accuracy: 0.8684\n",
      "Epoch 34/50\n",
      "250/250 [==============================] - 1s 2ms/step - loss: 0.3172 - accuracy: 0.8712\n",
      "Epoch 35/50\n",
      "250/250 [==============================] - 1s 3ms/step - loss: 0.3174 - accuracy: 0.8728\n",
      "Epoch 36/50\n",
      "250/250 [==============================] - 1s 3ms/step - loss: 0.3165 - accuracy: 0.8722\n",
      "Epoch 37/50\n",
      "250/250 [==============================] - 1s 2ms/step - loss: 0.3163 - accuracy: 0.8721\n",
      "Epoch 38/50\n",
      "250/250 [==============================] - 1s 2ms/step - loss: 0.3126 - accuracy: 0.8722\n",
      "Epoch 39/50\n",
      "250/250 [==============================] - 1s 2ms/step - loss: 0.3140 - accuracy: 0.8723\n",
      "Epoch 40/50\n",
      "250/250 [==============================] - 1s 2ms/step - loss: 0.3114 - accuracy: 0.8737\n",
      "Epoch 41/50\n",
      "250/250 [==============================] - 1s 3ms/step - loss: 0.3115 - accuracy: 0.8717\n",
      "Epoch 42/50\n",
      "250/250 [==============================] - 1s 3ms/step - loss: 0.3141 - accuracy: 0.8719: 0s - loss: 0\n",
      "Epoch 43/50\n",
      "250/250 [==============================] - 1s 3ms/step - loss: 0.3089 - accuracy: 0.8748\n",
      "Epoch 44/50\n",
      "250/250 [==============================] - 1s 2ms/step - loss: 0.3103 - accuracy: 0.8728\n",
      "Epoch 45/50\n",
      "250/250 [==============================] - 1s 3ms/step - loss: 0.3084 - accuracy: 0.8758\n",
      "Epoch 46/50\n",
      "250/250 [==============================] - 1s 3ms/step - loss: 0.3068 - accuracy: 0.8754\n",
      "Epoch 47/50\n",
      "250/250 [==============================] - 1s 3ms/step - loss: 0.3051 - accuracy: 0.8781\n",
      "Epoch 48/50\n",
      "250/250 [==============================] - 1s 2ms/step - loss: 0.3035 - accuracy: 0.8759\n",
      "Epoch 49/50\n",
      "250/250 [==============================] - 1s 2ms/step - loss: 0.3022 - accuracy: 0.8771\n",
      "Epoch 50/50\n",
      "250/250 [==============================] - 1s 3ms/step - loss: 0.3031 - accuracy: 0.8772\n",
      "63/63 [==============================] - 0s 1ms/step - loss: 0.3803 - accuracy: 0.8490\n",
      "\n",
      "              precision    recall  f1-score   support\n",
      "\n",
      "           0       0.87      0.95      0.91      1574\n",
      "           1       0.72      0.48      0.58       426\n",
      "\n",
      "    accuracy                           0.85      2000\n",
      "   macro avg       0.79      0.71      0.74      2000\n",
      "weighted avg       0.84      0.85      0.84      2000\n",
      "\n"
     ]
    }
   ],
   "source": [
    "model(x_train, y_train, x_test, y_test, epochs=50)"
   ]
  },
  {
   "cell_type": "markdown",
   "id": "aa2e0549",
   "metadata": {},
   "source": [
    "<h1>Under sampling</h1>"
   ]
  },
  {
   "cell_type": "code",
   "execution_count": 26,
   "id": "86ba5aca",
   "metadata": {},
   "outputs": [
    {
     "data": {
      "text/html": [
       "<div>\n",
       "<style scoped>\n",
       "    .dataframe tbody tr th:only-of-type {\n",
       "        vertical-align: middle;\n",
       "    }\n",
       "\n",
       "    .dataframe tbody tr th {\n",
       "        vertical-align: top;\n",
       "    }\n",
       "\n",
       "    .dataframe thead th {\n",
       "        text-align: right;\n",
       "    }\n",
       "</style>\n",
       "<table border=\"1\" class=\"dataframe\">\n",
       "  <thead>\n",
       "    <tr style=\"text-align: right;\">\n",
       "      <th></th>\n",
       "      <th>CreditScore</th>\n",
       "      <th>Age</th>\n",
       "      <th>Tenure</th>\n",
       "      <th>Balance</th>\n",
       "      <th>NumOfProducts</th>\n",
       "      <th>HasCrCard</th>\n",
       "      <th>IsActiveMember</th>\n",
       "      <th>EstimatedSalary</th>\n",
       "      <th>Exited</th>\n",
       "      <th>Germany</th>\n",
       "      <th>Spain</th>\n",
       "    </tr>\n",
       "  </thead>\n",
       "  <tbody>\n",
       "    <tr>\n",
       "      <th>6315</th>\n",
       "      <td>0.200</td>\n",
       "      <td>0.148649</td>\n",
       "      <td>7</td>\n",
       "      <td>0.467121</td>\n",
       "      <td>1</td>\n",
       "      <td>1</td>\n",
       "      <td>1</td>\n",
       "      <td>0.216994</td>\n",
       "      <td>0</td>\n",
       "      <td>0</td>\n",
       "      <td>0</td>\n",
       "    </tr>\n",
       "    <tr>\n",
       "      <th>4838</th>\n",
       "      <td>0.362</td>\n",
       "      <td>0.472973</td>\n",
       "      <td>5</td>\n",
       "      <td>0.508742</td>\n",
       "      <td>1</td>\n",
       "      <td>1</td>\n",
       "      <td>0</td>\n",
       "      <td>0.707378</td>\n",
       "      <td>1</td>\n",
       "      <td>0</td>\n",
       "      <td>0</td>\n",
       "    </tr>\n",
       "    <tr>\n",
       "      <th>7111</th>\n",
       "      <td>0.766</td>\n",
       "      <td>0.081081</td>\n",
       "      <td>3</td>\n",
       "      <td>0.645222</td>\n",
       "      <td>1</td>\n",
       "      <td>1</td>\n",
       "      <td>1</td>\n",
       "      <td>0.047580</td>\n",
       "      <td>0</td>\n",
       "      <td>0</td>\n",
       "      <td>0</td>\n",
       "    </tr>\n",
       "    <tr>\n",
       "      <th>5947</th>\n",
       "      <td>0.784</td>\n",
       "      <td>0.351351</td>\n",
       "      <td>8</td>\n",
       "      <td>0.430159</td>\n",
       "      <td>1</td>\n",
       "      <td>0</td>\n",
       "      <td>1</td>\n",
       "      <td>0.086392</td>\n",
       "      <td>1</td>\n",
       "      <td>1</td>\n",
       "      <td>0</td>\n",
       "    </tr>\n",
       "    <tr>\n",
       "      <th>7960</th>\n",
       "      <td>0.568</td>\n",
       "      <td>0.513514</td>\n",
       "      <td>3</td>\n",
       "      <td>0.463340</td>\n",
       "      <td>1</td>\n",
       "      <td>0</td>\n",
       "      <td>1</td>\n",
       "      <td>0.211737</td>\n",
       "      <td>1</td>\n",
       "      <td>1</td>\n",
       "      <td>0</td>\n",
       "    </tr>\n",
       "  </tbody>\n",
       "</table>\n",
       "</div>"
      ],
      "text/plain": [
       "      CreditScore       Age  Tenure   Balance  NumOfProducts  HasCrCard  \\\n",
       "6315        0.200  0.148649       7  0.467121              1          1   \n",
       "4838        0.362  0.472973       5  0.508742              1          1   \n",
       "7111        0.766  0.081081       3  0.645222              1          1   \n",
       "5947        0.784  0.351351       8  0.430159              1          0   \n",
       "7960        0.568  0.513514       3  0.463340              1          0   \n",
       "\n",
       "      IsActiveMember  EstimatedSalary  Exited  Germany  Spain  \n",
       "6315               1         0.216994       0        0      0  \n",
       "4838               0         0.707378       1        0      0  \n",
       "7111               1         0.047580       0        0      0  \n",
       "5947               1         0.086392       1        1      0  \n",
       "7960               1         0.211737       1        1      0  "
      ]
     },
     "execution_count": 26,
     "metadata": {},
     "output_type": "execute_result"
    }
   ],
   "source": [
    "class_0 = df[df['Exited'] == 0]\n",
    "class_1 = df[df['Exited'] == 1]\n",
    "\n",
    "sample_size = len(class_1)\n",
    "new_class_0 = class_0.sample(sample_size)\n",
    "\n",
    "df1 = pd.concat([new_class_0, class_1])\n",
    "df1.sample(5)"
   ]
  },
  {
   "cell_type": "code",
   "execution_count": 27,
   "id": "6db972a9",
   "metadata": {},
   "outputs": [
    {
     "data": {
      "text/plain": [
       "0    2035\n",
       "1    2035\n",
       "Name: Exited, dtype: int64"
      ]
     },
     "execution_count": 27,
     "metadata": {},
     "output_type": "execute_result"
    }
   ],
   "source": [
    "df1['Exited'].value_counts()"
   ]
  },
  {
   "cell_type": "code",
   "execution_count": 53,
   "id": "d9e13fd6",
   "metadata": {},
   "outputs": [
    {
     "data": {
      "text/plain": [
       "0    1628\n",
       "1    1628\n",
       "Name: Exited, dtype: int64"
      ]
     },
     "execution_count": 53,
     "metadata": {},
     "output_type": "execute_result"
    }
   ],
   "source": [
    "x1 = df1.drop(\"Exited\", axis=1)\n",
    "y1 = df1['Exited']\n",
    "\n",
    "x_train, x_test, y_train, y_test = train_test_split(x1, y1, random_state=15, test_size=0.2, \n",
    "                                                    stratify=y1)\n",
    "y_train.value_counts()"
   ]
  },
  {
   "cell_type": "code",
   "execution_count": 54,
   "id": "035f4f99",
   "metadata": {},
   "outputs": [
    {
     "name": "stdout",
     "output_type": "stream",
     "text": [
      "Epoch 1/50\n",
      "102/102 [==============================] - 1s 2ms/step - loss: 0.6609 - accuracy: 0.6121\n",
      "Epoch 2/50\n",
      "102/102 [==============================] - 0s 3ms/step - loss: 0.6131 - accuracy: 0.6686\n",
      "Epoch 3/50\n",
      "102/102 [==============================] - 0s 2ms/step - loss: 0.5745 - accuracy: 0.6920\n",
      "Epoch 4/50\n",
      "102/102 [==============================] - 0s 3ms/step - loss: 0.5512 - accuracy: 0.7245\n",
      "Epoch 5/50\n",
      "102/102 [==============================] - 0s 2ms/step - loss: 0.5305 - accuracy: 0.7340\n",
      "Epoch 6/50\n",
      "102/102 [==============================] - 0s 2ms/step - loss: 0.5145 - accuracy: 0.7408\n",
      "Epoch 7/50\n",
      "102/102 [==============================] - 0s 3ms/step - loss: 0.5115 - accuracy: 0.7365\n",
      "Epoch 8/50\n",
      "102/102 [==============================] - 0s 2ms/step - loss: 0.4947 - accuracy: 0.7540\n",
      "Epoch 9/50\n",
      "102/102 [==============================] - 0s 3ms/step - loss: 0.4933 - accuracy: 0.7564\n",
      "Epoch 10/50\n",
      "102/102 [==============================] - 0s 2ms/step - loss: 0.4884 - accuracy: 0.7577\n",
      "Epoch 11/50\n",
      "102/102 [==============================] - 0s 3ms/step - loss: 0.4823 - accuracy: 0.7564\n",
      "Epoch 12/50\n",
      "102/102 [==============================] - 0s 2ms/step - loss: 0.4916 - accuracy: 0.7503\n",
      "Epoch 13/50\n",
      "102/102 [==============================] - 0s 3ms/step - loss: 0.4813 - accuracy: 0.7611\n",
      "Epoch 14/50\n",
      "102/102 [==============================] - 0s 2ms/step - loss: 0.4738 - accuracy: 0.7681\n",
      "Epoch 15/50\n",
      "102/102 [==============================] - 0s 4ms/step - loss: 0.4727 - accuracy: 0.7629\n",
      "Epoch 16/50\n",
      "102/102 [==============================] - 0s 2ms/step - loss: 0.4653 - accuracy: 0.7733\n",
      "Epoch 17/50\n",
      "102/102 [==============================] - 0s 4ms/step - loss: 0.4706 - accuracy: 0.7620\n",
      "Epoch 18/50\n",
      "102/102 [==============================] - 0s 2ms/step - loss: 0.4636 - accuracy: 0.7721\n",
      "Epoch 19/50\n",
      "102/102 [==============================] - 0s 3ms/step - loss: 0.4565 - accuracy: 0.7776\n",
      "Epoch 20/50\n",
      "102/102 [==============================] - 0s 2ms/step - loss: 0.4571 - accuracy: 0.7736\n",
      "Epoch 21/50\n",
      "102/102 [==============================] - 0s 4ms/step - loss: 0.4559 - accuracy: 0.7736: 0s - loss: 0.4402 - accura\n",
      "Epoch 22/50\n",
      "102/102 [==============================] - 0s 2ms/step - loss: 0.4620 - accuracy: 0.7767\n",
      "Epoch 23/50\n",
      "102/102 [==============================] - 0s 3ms/step - loss: 0.4550 - accuracy: 0.7783\n",
      "Epoch 24/50\n",
      "102/102 [==============================] - 0s 2ms/step - loss: 0.4524 - accuracy: 0.7853\n",
      "Epoch 25/50\n",
      "102/102 [==============================] - 0s 3ms/step - loss: 0.4524 - accuracy: 0.7798\n",
      "Epoch 26/50\n",
      "102/102 [==============================] - 0s 2ms/step - loss: 0.4534 - accuracy: 0.7752\n",
      "Epoch 27/50\n",
      "102/102 [==============================] - 0s 3ms/step - loss: 0.4544 - accuracy: 0.7736\n",
      "Epoch 28/50\n",
      "102/102 [==============================] - 0s 2ms/step - loss: 0.4432 - accuracy: 0.7783\n",
      "Epoch 29/50\n",
      "102/102 [==============================] - 0s 3ms/step - loss: 0.4434 - accuracy: 0.7881\n",
      "Epoch 30/50\n",
      "102/102 [==============================] - 0s 2ms/step - loss: 0.4382 - accuracy: 0.7896\n",
      "Epoch 31/50\n",
      "102/102 [==============================] - 0s 4ms/step - loss: 0.4398 - accuracy: 0.7844\n",
      "Epoch 32/50\n",
      "102/102 [==============================] - 0s 2ms/step - loss: 0.4321 - accuracy: 0.7881\n",
      "Epoch 33/50\n",
      "102/102 [==============================] - 0s 3ms/step - loss: 0.4329 - accuracy: 0.7865\n",
      "Epoch 34/50\n",
      "102/102 [==============================] - 0s 3ms/step - loss: 0.4305 - accuracy: 0.7881\n",
      "Epoch 35/50\n",
      "102/102 [==============================] - 0s 3ms/step - loss: 0.4316 - accuracy: 0.7942\n",
      "Epoch 36/50\n",
      "102/102 [==============================] - 0s 3ms/step - loss: 0.4259 - accuracy: 0.7912\n",
      "Epoch 37/50\n",
      "102/102 [==============================] - 0s 2ms/step - loss: 0.4274 - accuracy: 0.7872\n",
      "Epoch 38/50\n",
      "102/102 [==============================] - 0s 3ms/step - loss: 0.4216 - accuracy: 0.7924\n",
      "Epoch 39/50\n",
      "102/102 [==============================] - 0s 2ms/step - loss: 0.4199 - accuracy: 0.7930\n",
      "Epoch 40/50\n",
      "102/102 [==============================] - 0s 3ms/step - loss: 0.4246 - accuracy: 0.7902\n",
      "Epoch 41/50\n",
      "102/102 [==============================] - 0s 3ms/step - loss: 0.4274 - accuracy: 0.7847\n",
      "Epoch 42/50\n",
      "102/102 [==============================] - 0s 3ms/step - loss: 0.4162 - accuracy: 0.7905\n",
      "Epoch 43/50\n",
      "102/102 [==============================] - 0s 3ms/step - loss: 0.4287 - accuracy: 0.7958\n",
      "Epoch 44/50\n",
      "102/102 [==============================] - 0s 2ms/step - loss: 0.4129 - accuracy: 0.7979\n",
      "Epoch 45/50\n",
      "102/102 [==============================] - 0s 3ms/step - loss: 0.4102 - accuracy: 0.7951\n",
      "Epoch 46/50\n",
      "102/102 [==============================] - 0s 2ms/step - loss: 0.4096 - accuracy: 0.8001\n",
      "Epoch 47/50\n",
      "102/102 [==============================] - 0s 3ms/step - loss: 0.4030 - accuracy: 0.8013\n",
      "Epoch 48/50\n",
      "102/102 [==============================] - 0s 2ms/step - loss: 0.3982 - accuracy: 0.8025\n",
      "Epoch 49/50\n",
      "102/102 [==============================] - 0s 3ms/step - loss: 0.4055 - accuracy: 0.7998\n",
      "Epoch 50/50\n",
      "102/102 [==============================] - 0s 2ms/step - loss: 0.3933 - accuracy: 0.8123\n",
      "26/26 [==============================] - 0s 1ms/step - loss: 0.5146 - accuracy: 0.7568\n",
      "\n",
      "\n",
      "              precision    recall  f1-score   support\n",
      "\n",
      "           0       0.72      0.85      0.78       407\n",
      "           1       0.82      0.66      0.73       407\n",
      "\n",
      "    accuracy                           0.76       814\n",
      "   macro avg       0.77      0.76      0.75       814\n",
      "weighted avg       0.77      0.76      0.75       814\n",
      "\n"
     ]
    }
   ],
   "source": [
    "model(x_train, y_train, x_test, y_test, epochs=50)"
   ]
  },
  {
   "cell_type": "markdown",
   "id": "cd6b9cb3",
   "metadata": {},
   "source": [
    "<h1>The F1 scores of 0 and 1 class are acceptable</h1>\n",
    "<h2>Lets try Oversampling</h2>"
   ]
  },
  {
   "cell_type": "code",
   "execution_count": 49,
   "id": "0fd043d8",
   "metadata": {},
   "outputs": [
    {
     "data": {
      "text/html": [
       "<div>\n",
       "<style scoped>\n",
       "    .dataframe tbody tr th:only-of-type {\n",
       "        vertical-align: middle;\n",
       "    }\n",
       "\n",
       "    .dataframe tbody tr th {\n",
       "        vertical-align: top;\n",
       "    }\n",
       "\n",
       "    .dataframe thead th {\n",
       "        text-align: right;\n",
       "    }\n",
       "</style>\n",
       "<table border=\"1\" class=\"dataframe\">\n",
       "  <thead>\n",
       "    <tr style=\"text-align: right;\">\n",
       "      <th></th>\n",
       "      <th>CreditScore</th>\n",
       "      <th>Age</th>\n",
       "      <th>Tenure</th>\n",
       "      <th>Balance</th>\n",
       "      <th>NumOfProducts</th>\n",
       "      <th>HasCrCard</th>\n",
       "      <th>IsActiveMember</th>\n",
       "      <th>EstimatedSalary</th>\n",
       "      <th>Exited</th>\n",
       "      <th>Germany</th>\n",
       "      <th>Spain</th>\n",
       "    </tr>\n",
       "  </thead>\n",
       "  <tbody>\n",
       "    <tr>\n",
       "      <th>9497</th>\n",
       "      <td>0.778</td>\n",
       "      <td>0.121622</td>\n",
       "      <td>8</td>\n",
       "      <td>0.394289</td>\n",
       "      <td>1</td>\n",
       "      <td>1</td>\n",
       "      <td>1</td>\n",
       "      <td>0.534622</td>\n",
       "      <td>0</td>\n",
       "      <td>0</td>\n",
       "      <td>1</td>\n",
       "    </tr>\n",
       "    <tr>\n",
       "      <th>9852</th>\n",
       "      <td>0.826</td>\n",
       "      <td>0.189189</td>\n",
       "      <td>1</td>\n",
       "      <td>0.432310</td>\n",
       "      <td>2</td>\n",
       "      <td>1</td>\n",
       "      <td>0</td>\n",
       "      <td>0.302402</td>\n",
       "      <td>1</td>\n",
       "      <td>1</td>\n",
       "      <td>0</td>\n",
       "    </tr>\n",
       "    <tr>\n",
       "      <th>5433</th>\n",
       "      <td>0.766</td>\n",
       "      <td>0.189189</td>\n",
       "      <td>5</td>\n",
       "      <td>0.000000</td>\n",
       "      <td>2</td>\n",
       "      <td>1</td>\n",
       "      <td>0</td>\n",
       "      <td>0.657968</td>\n",
       "      <td>0</td>\n",
       "      <td>0</td>\n",
       "      <td>1</td>\n",
       "    </tr>\n",
       "    <tr>\n",
       "      <th>5893</th>\n",
       "      <td>0.776</td>\n",
       "      <td>0.256757</td>\n",
       "      <td>7</td>\n",
       "      <td>0.561786</td>\n",
       "      <td>2</td>\n",
       "      <td>1</td>\n",
       "      <td>0</td>\n",
       "      <td>0.976694</td>\n",
       "      <td>0</td>\n",
       "      <td>1</td>\n",
       "      <td>0</td>\n",
       "    </tr>\n",
       "    <tr>\n",
       "      <th>143</th>\n",
       "      <td>0.886</td>\n",
       "      <td>0.459459</td>\n",
       "      <td>2</td>\n",
       "      <td>0.000000</td>\n",
       "      <td>1</td>\n",
       "      <td>1</td>\n",
       "      <td>0</td>\n",
       "      <td>0.795540</td>\n",
       "      <td>1</td>\n",
       "      <td>0</td>\n",
       "      <td>1</td>\n",
       "    </tr>\n",
       "  </tbody>\n",
       "</table>\n",
       "</div>"
      ],
      "text/plain": [
       "      CreditScore       Age  Tenure   Balance  NumOfProducts  HasCrCard  \\\n",
       "9497        0.778  0.121622       8  0.394289              1          1   \n",
       "9852        0.826  0.189189       1  0.432310              2          1   \n",
       "5433        0.766  0.189189       5  0.000000              2          1   \n",
       "5893        0.776  0.256757       7  0.561786              2          1   \n",
       "143         0.886  0.459459       2  0.000000              1          1   \n",
       "\n",
       "      IsActiveMember  EstimatedSalary  Exited  Germany  Spain  \n",
       "9497               1         0.534622       0        0      1  \n",
       "9852               0         0.302402       1        1      0  \n",
       "5433               0         0.657968       0        0      1  \n",
       "5893               0         0.976694       0        1      0  \n",
       "143                0         0.795540       1        0      1  "
      ]
     },
     "execution_count": 49,
     "metadata": {},
     "output_type": "execute_result"
    }
   ],
   "source": [
    "class_0 = df[df['Exited'] == 0]\n",
    "class_1 = df[df['Exited'] == 1]\n",
    "\n",
    "sample_size = len(class_0)\n",
    "new_class_1 = class_1.sample(sample_size, replace=True)\n",
    "\n",
    "df2 = pd.concat([new_class_1, class_0])\n",
    "df2.sample(5)"
   ]
  },
  {
   "cell_type": "code",
   "execution_count": 50,
   "id": "a6c8e91a",
   "metadata": {},
   "outputs": [
    {
     "data": {
      "text/plain": [
       "1    7961\n",
       "0    7961\n",
       "Name: Exited, dtype: int64"
      ]
     },
     "execution_count": 50,
     "metadata": {},
     "output_type": "execute_result"
    }
   ],
   "source": [
    "df2['Exited'].value_counts()"
   ]
  },
  {
   "cell_type": "code",
   "execution_count": 55,
   "id": "40d93942",
   "metadata": {},
   "outputs": [
    {
     "data": {
      "text/plain": [
       "1    6369\n",
       "0    6368\n",
       "Name: Exited, dtype: int64"
      ]
     },
     "execution_count": 55,
     "metadata": {},
     "output_type": "execute_result"
    }
   ],
   "source": [
    "x2 = df2.drop(\"Exited\", axis=1)\n",
    "y2 = df2['Exited']\n",
    "\n",
    "x_train, x_test, y_train, y_test = train_test_split(x2, y2, random_state=15, test_size=0.2, \n",
    "                                                    stratify=y2)\n",
    "y_train.value_counts()"
   ]
  },
  {
   "cell_type": "code",
   "execution_count": 56,
   "id": "92036d56",
   "metadata": {},
   "outputs": [
    {
     "name": "stdout",
     "output_type": "stream",
     "text": [
      "Epoch 1/50\n",
      "399/399 [==============================] - 2s 3ms/step - loss: 0.6112 - accuracy: 0.6581\n",
      "Epoch 2/50\n",
      "399/399 [==============================] - 1s 3ms/step - loss: 0.5292 - accuracy: 0.7380\n",
      "Epoch 3/50\n",
      "399/399 [==============================] - 1s 3ms/step - loss: 0.5013 - accuracy: 0.7556\n",
      "Epoch 4/50\n",
      "399/399 [==============================] - 1s 3ms/step - loss: 0.4853 - accuracy: 0.7590\n",
      "Epoch 5/50\n",
      "399/399 [==============================] - 1s 3ms/step - loss: 0.4736 - accuracy: 0.7711\n",
      "Epoch 6/50\n",
      "399/399 [==============================] - 1s 3ms/step - loss: 0.4698 - accuracy: 0.7744\n",
      "Epoch 7/50\n",
      "399/399 [==============================] - 1s 3ms/step - loss: 0.4664 - accuracy: 0.7769\n",
      "Epoch 8/50\n",
      "399/399 [==============================] - 1s 3ms/step - loss: 0.4627 - accuracy: 0.7799\n",
      "Epoch 9/50\n",
      "399/399 [==============================] - 1s 3ms/step - loss: 0.4604 - accuracy: 0.7802\n",
      "Epoch 10/50\n",
      "399/399 [==============================] - 1s 3ms/step - loss: 0.4572 - accuracy: 0.7805\n",
      "Epoch 11/50\n",
      "399/399 [==============================] - 1s 3ms/step - loss: 0.4556 - accuracy: 0.7854\n",
      "Epoch 12/50\n",
      "399/399 [==============================] - 1s 3ms/step - loss: 0.4548 - accuracy: 0.7820\n",
      "Epoch 13/50\n",
      "399/399 [==============================] - 1s 3ms/step - loss: 0.4499 - accuracy: 0.7871\n",
      "Epoch 14/50\n",
      "399/399 [==============================] - 1s 3ms/step - loss: 0.4449 - accuracy: 0.7912\n",
      "Epoch 15/50\n",
      "399/399 [==============================] - 1s 3ms/step - loss: 0.4439 - accuracy: 0.7876\n",
      "Epoch 16/50\n",
      "399/399 [==============================] - 1s 3ms/step - loss: 0.4385 - accuracy: 0.7927\n",
      "Epoch 17/50\n",
      "399/399 [==============================] - 1s 3ms/step - loss: 0.4375 - accuracy: 0.7935\n",
      "Epoch 18/50\n",
      "399/399 [==============================] - 1s 3ms/step - loss: 0.4359 - accuracy: 0.7945\n",
      "Epoch 19/50\n",
      "399/399 [==============================] - 1s 3ms/step - loss: 0.4318 - accuracy: 0.7963\n",
      "Epoch 20/50\n",
      "399/399 [==============================] - 1s 3ms/step - loss: 0.4273 - accuracy: 0.7963\n",
      "Epoch 21/50\n",
      "399/399 [==============================] - 1s 3ms/step - loss: 0.4259 - accuracy: 0.7975\n",
      "Epoch 22/50\n",
      "399/399 [==============================] - 1s 3ms/step - loss: 0.4207 - accuracy: 0.8025\n",
      "Epoch 23/50\n",
      "399/399 [==============================] - 1s 3ms/step - loss: 0.4204 - accuracy: 0.8001\n",
      "Epoch 24/50\n",
      "399/399 [==============================] - 1s 3ms/step - loss: 0.4160 - accuracy: 0.8033\n",
      "Epoch 25/50\n",
      "399/399 [==============================] - 1s 3ms/step - loss: 0.4108 - accuracy: 0.8061\n",
      "Epoch 26/50\n",
      "399/399 [==============================] - 1s 3ms/step - loss: 0.4115 - accuracy: 0.8031\n",
      "Epoch 27/50\n",
      "399/399 [==============================] - 1s 3ms/step - loss: 0.4055 - accuracy: 0.8101\n",
      "Epoch 28/50\n",
      "399/399 [==============================] - 1s 3ms/step - loss: 0.3996 - accuracy: 0.8116\n",
      "Epoch 29/50\n",
      "399/399 [==============================] - 1s 3ms/step - loss: 0.3979 - accuracy: 0.8131\n",
      "Epoch 30/50\n",
      "399/399 [==============================] - 1s 3ms/step - loss: 0.3899 - accuracy: 0.8156\n",
      "Epoch 31/50\n",
      "399/399 [==============================] - 1s 3ms/step - loss: 0.3848 - accuracy: 0.8212\n",
      "Epoch 32/50\n",
      "399/399 [==============================] - 1s 3ms/step - loss: 0.3836 - accuracy: 0.8196\n",
      "Epoch 33/50\n",
      "399/399 [==============================] - 1s 3ms/step - loss: 0.3811 - accuracy: 0.8233\n",
      "Epoch 34/50\n",
      "399/399 [==============================] - 1s 3ms/step - loss: 0.3743 - accuracy: 0.8235\n",
      "Epoch 35/50\n",
      "399/399 [==============================] - 1s 3ms/step - loss: 0.3709 - accuracy: 0.8275\n",
      "Epoch 36/50\n",
      "399/399 [==============================] - 1s 3ms/step - loss: 0.3660 - accuracy: 0.8298\n",
      "Epoch 37/50\n",
      "399/399 [==============================] - 1s 3ms/step - loss: 0.3657 - accuracy: 0.8320\n",
      "Epoch 38/50\n",
      "399/399 [==============================] - 1s 3ms/step - loss: 0.3623 - accuracy: 0.8294\n",
      "Epoch 39/50\n",
      "399/399 [==============================] - 1s 3ms/step - loss: 0.3548 - accuracy: 0.8355\n",
      "Epoch 40/50\n",
      "399/399 [==============================] - 1s 3ms/step - loss: 0.3516 - accuracy: 0.8351\n",
      "Epoch 41/50\n",
      "399/399 [==============================] - 1s 3ms/step - loss: 0.3614 - accuracy: 0.8303\n",
      "Epoch 42/50\n",
      "399/399 [==============================] - 1s 3ms/step - loss: 0.3465 - accuracy: 0.8430\n",
      "Epoch 43/50\n",
      "399/399 [==============================] - 1s 3ms/step - loss: 0.3407 - accuracy: 0.8434\n",
      "Epoch 44/50\n",
      "399/399 [==============================] - 1s 3ms/step - loss: 0.3390 - accuracy: 0.8444\n",
      "Epoch 45/50\n",
      "399/399 [==============================] - 1s 3ms/step - loss: 0.3434 - accuracy: 0.8430\n",
      "Epoch 46/50\n",
      "399/399 [==============================] - 1s 3ms/step - loss: 0.3326 - accuracy: 0.8479\n",
      "Epoch 47/50\n",
      "399/399 [==============================] - 1s 3ms/step - loss: 0.3287 - accuracy: 0.8469\n",
      "Epoch 48/50\n",
      "399/399 [==============================] - 1s 3ms/step - loss: 0.3242 - accuracy: 0.8495\n",
      "Epoch 49/50\n",
      "399/399 [==============================] - 1s 3ms/step - loss: 0.3273 - accuracy: 0.8470\n",
      "Epoch 50/50\n",
      "399/399 [==============================] - 1s 3ms/step - loss: 0.3197 - accuracy: 0.8545\n",
      "100/100 [==============================] - 0s 2ms/step - loss: 0.3877 - accuracy: 0.8264\n",
      "\n",
      "\n",
      "              precision    recall  f1-score   support\n",
      "\n",
      "           0       0.83      0.82      0.83      1593\n",
      "           1       0.83      0.83      0.83      1592\n",
      "\n",
      "    accuracy                           0.83      3185\n",
      "   macro avg       0.83      0.83      0.83      3185\n",
      "weighted avg       0.83      0.83      0.83      3185\n",
      "\n"
     ]
    }
   ],
   "source": [
    "model(x_train, y_train, x_test, y_test, epochs=50)"
   ]
  },
  {
   "cell_type": "markdown",
   "id": "e23b1927",
   "metadata": {},
   "source": [
    "<h1>The accuracy and f1 score are the best we have gotten so far</h1>"
   ]
  },
  {
   "cell_type": "markdown",
   "id": "95967946",
   "metadata": {},
   "source": [
    "<h2>Lets tryout SMOTE method to over sample the data</h2>"
   ]
  },
  {
   "cell_type": "code",
   "execution_count": 65,
   "id": "d4ce59b0",
   "metadata": {},
   "outputs": [],
   "source": [
    "df3 = df.copy()\n",
    "\n",
    "x3 = df3.drop('Exited', axis=1)\n",
    "y3 = df3['Exited']"
   ]
  },
  {
   "cell_type": "code",
   "execution_count": 66,
   "id": "7c610998",
   "metadata": {},
   "outputs": [],
   "source": [
    "from imblearn.over_sampling import SMOTE\n",
    "\n",
    "smote = SMOTE(sampling_strategy='minority')\n",
    "\n",
    "x_sm, y_sm = smote.fit_resample(x3, y3)"
   ]
  },
  {
   "cell_type": "code",
   "execution_count": 67,
   "id": "2d99aba6",
   "metadata": {},
   "outputs": [
    {
     "data": {
      "text/plain": [
       "1    7961\n",
       "0    7961\n",
       "Name: Exited, dtype: int64"
      ]
     },
     "execution_count": 67,
     "metadata": {},
     "output_type": "execute_result"
    }
   ],
   "source": [
    "y_sm.value_counts()"
   ]
  },
  {
   "cell_type": "code",
   "execution_count": 68,
   "id": "d6401c5c",
   "metadata": {},
   "outputs": [
    {
     "data": {
      "text/plain": [
       "1    6369\n",
       "0    6368\n",
       "Name: Exited, dtype: int64"
      ]
     },
     "execution_count": 68,
     "metadata": {},
     "output_type": "execute_result"
    }
   ],
   "source": [
    "x_train, x_test, y_train, y_test = train_test_split(x_sm, y_sm, random_state=15, test_size=0.2, \n",
    "                                                    stratify=y_sm)\n",
    "y_train.value_counts()"
   ]
  },
  {
   "cell_type": "code",
   "execution_count": 69,
   "id": "0a32b652",
   "metadata": {},
   "outputs": [
    {
     "name": "stdout",
     "output_type": "stream",
     "text": [
      "Epoch 1/50\n",
      "399/399 [==============================] - 2s 3ms/step - loss: 0.6490 - accuracy: 0.6380\n",
      "Epoch 2/50\n",
      "399/399 [==============================] - 1s 3ms/step - loss: 0.5820 - accuracy: 0.7137\n",
      "Epoch 3/50\n",
      "399/399 [==============================] - 1s 2ms/step - loss: 0.4953 - accuracy: 0.7596\n",
      "Epoch 4/50\n",
      "399/399 [==============================] - 1s 3ms/step - loss: 0.4750 - accuracy: 0.7715\n",
      "Epoch 5/50\n",
      "399/399 [==============================] - 1s 3ms/step - loss: 0.4629 - accuracy: 0.7763\n",
      "Epoch 6/50\n",
      "399/399 [==============================] - 1s 3ms/step - loss: 0.4494 - accuracy: 0.7913\n",
      "Epoch 7/50\n",
      "399/399 [==============================] - 1s 3ms/step - loss: 0.4403 - accuracy: 0.7931\n",
      "Epoch 8/50\n",
      "399/399 [==============================] - 1s 3ms/step - loss: 0.4380 - accuracy: 0.7956\n",
      "Epoch 9/50\n",
      "399/399 [==============================] - 1s 3ms/step - loss: 0.4348 - accuracy: 0.7978\n",
      "Epoch 10/50\n",
      "399/399 [==============================] - 1s 3ms/step - loss: 0.4307 - accuracy: 0.7989\n",
      "Epoch 11/50\n",
      "399/399 [==============================] - 1s 3ms/step - loss: 0.4273 - accuracy: 0.7996\n",
      "Epoch 12/50\n",
      "399/399 [==============================] - 1s 3ms/step - loss: 0.4291 - accuracy: 0.7995\n",
      "Epoch 13/50\n",
      "399/399 [==============================] - 1s 3ms/step - loss: 0.4229 - accuracy: 0.8038\n",
      "Epoch 14/50\n",
      "399/399 [==============================] - 1s 3ms/step - loss: 0.4208 - accuracy: 0.8040\n",
      "Epoch 15/50\n",
      "399/399 [==============================] - 1s 3ms/step - loss: 0.4168 - accuracy: 0.8074\n",
      "Epoch 16/50\n",
      "399/399 [==============================] - 1s 3ms/step - loss: 0.4086 - accuracy: 0.8119\n",
      "Epoch 17/50\n",
      "399/399 [==============================] - 1s 3ms/step - loss: 0.4054 - accuracy: 0.8133\n",
      "Epoch 18/50\n",
      "399/399 [==============================] - 1s 3ms/step - loss: 0.4024 - accuracy: 0.8122\n",
      "Epoch 19/50\n",
      "399/399 [==============================] - 1s 2ms/step - loss: 0.3994 - accuracy: 0.8167\n",
      "Epoch 20/50\n",
      "399/399 [==============================] - 1s 3ms/step - loss: 0.4024 - accuracy: 0.8135\n",
      "Epoch 21/50\n",
      "399/399 [==============================] - 1s 3ms/step - loss: 0.3928 - accuracy: 0.8157\n",
      "Epoch 22/50\n",
      "399/399 [==============================] - 1s 2ms/step - loss: 0.3928 - accuracy: 0.8155\n",
      "Epoch 23/50\n",
      "399/399 [==============================] - 1s 2ms/step - loss: 0.3899 - accuracy: 0.8206\n",
      "Epoch 24/50\n",
      "399/399 [==============================] - 1s 3ms/step - loss: 0.3837 - accuracy: 0.8239\n",
      "Epoch 25/50\n",
      "399/399 [==============================] - 1s 3ms/step - loss: 0.3780 - accuracy: 0.8226\n",
      "Epoch 26/50\n",
      "399/399 [==============================] - 1s 3ms/step - loss: 0.3766 - accuracy: 0.8279\n",
      "Epoch 27/50\n",
      "399/399 [==============================] - 1s 3ms/step - loss: 0.3735 - accuracy: 0.8261\n",
      "Epoch 28/50\n",
      "399/399 [==============================] - 1s 3ms/step - loss: 0.3719 - accuracy: 0.8290: 0s - loss: 0.3726 - accuracy: \n",
      "Epoch 29/50\n",
      "399/399 [==============================] - 1s 3ms/step - loss: 0.3705 - accuracy: 0.8292\n",
      "Epoch 30/50\n",
      "399/399 [==============================] - 1s 3ms/step - loss: 0.3701 - accuracy: 0.8302\n",
      "Epoch 31/50\n",
      "399/399 [==============================] - 1s 3ms/step - loss: 0.3670 - accuracy: 0.8333\n",
      "Epoch 32/50\n",
      "399/399 [==============================] - 1s 3ms/step - loss: 0.3624 - accuracy: 0.8325\n",
      "Epoch 33/50\n",
      "399/399 [==============================] - 1s 3ms/step - loss: 0.3634 - accuracy: 0.8368\n",
      "Epoch 34/50\n",
      "399/399 [==============================] - 1s 3ms/step - loss: 0.3616 - accuracy: 0.8370\n",
      "Epoch 35/50\n",
      "399/399 [==============================] - 1s 3ms/step - loss: 0.3558 - accuracy: 0.8373\n",
      "Epoch 36/50\n",
      "399/399 [==============================] - 1s 2ms/step - loss: 0.3519 - accuracy: 0.8381\n",
      "Epoch 37/50\n",
      "399/399 [==============================] - 1s 3ms/step - loss: 0.3534 - accuracy: 0.8383\n",
      "Epoch 38/50\n",
      "399/399 [==============================] - 1s 3ms/step - loss: 0.3473 - accuracy: 0.8403\n",
      "Epoch 39/50\n",
      "399/399 [==============================] - 1s 3ms/step - loss: 0.3495 - accuracy: 0.8400\n",
      "Epoch 40/50\n",
      "399/399 [==============================] - 1s 3ms/step - loss: 0.3478 - accuracy: 0.8413\n",
      "Epoch 41/50\n",
      "399/399 [==============================] - 1s 3ms/step - loss: 0.3402 - accuracy: 0.8456: 0s - loss: 0.3397 - accuracy\n",
      "Epoch 42/50\n",
      "399/399 [==============================] - 1s 2ms/step - loss: 0.3401 - accuracy: 0.8446\n",
      "Epoch 43/50\n",
      "399/399 [==============================] - 1s 3ms/step - loss: 0.3405 - accuracy: 0.8416\n",
      "Epoch 44/50\n",
      "399/399 [==============================] - 1s 3ms/step - loss: 0.3345 - accuracy: 0.8457\n",
      "Epoch 45/50\n",
      "399/399 [==============================] - 1s 2ms/step - loss: 0.3307 - accuracy: 0.8489\n",
      "Epoch 46/50\n",
      "399/399 [==============================] - 1s 3ms/step - loss: 0.3274 - accuracy: 0.8514\n",
      "Epoch 47/50\n",
      "399/399 [==============================] - 1s 3ms/step - loss: 0.3275 - accuracy: 0.8503\n",
      "Epoch 48/50\n",
      "399/399 [==============================] - 1s 3ms/step - loss: 0.3247 - accuracy: 0.8531\n",
      "Epoch 49/50\n",
      "399/399 [==============================] - 1s 3ms/step - loss: 0.3186 - accuracy: 0.8569\n",
      "Epoch 50/50\n",
      "399/399 [==============================] - 1s 3ms/step - loss: 0.3202 - accuracy: 0.8514\n",
      "100/100 [==============================] - 0s 1ms/step - loss: 0.3928 - accuracy: 0.8298\n",
      "\n",
      "\n",
      "              precision    recall  f1-score   support\n",
      "\n",
      "           0       0.86      0.78      0.82      1593\n",
      "           1       0.80      0.88      0.84      1592\n",
      "\n",
      "    accuracy                           0.83      3185\n",
      "   macro avg       0.83      0.83      0.83      3185\n",
      "weighted avg       0.83      0.83      0.83      3185\n",
      "\n"
     ]
    }
   ],
   "source": [
    "model(x_train, y_train, x_test, y_test, epochs=50)"
   ]
  },
  {
   "cell_type": "markdown",
   "id": "4ef91615",
   "metadata": {},
   "source": [
    "<h2>The result was also very good and perhaps the best it can produce a better prediction in a real\n",
    "prediction with real datas</h2>"
   ]
  },
  {
   "cell_type": "markdown",
   "id": "3a2eb449",
   "metadata": {},
   "source": [
    "<h1>Lets try ensemble the 0 class to make different prediction and take best one out of them</h1>"
   ]
  },
  {
   "cell_type": "code",
   "execution_count": 4,
   "id": "9a2dda2d",
   "metadata": {},
   "outputs": [],
   "source": [
    "df4 = df.copy()"
   ]
  },
  {
   "cell_type": "code",
   "execution_count": 19,
   "id": "25a8e4a4",
   "metadata": {},
   "outputs": [],
   "source": [
    "def new_df(cls0, cls1):\n",
    "    return pd.concat([cls0, cls1])\n",
    "\n",
    "def train_test(df):\n",
    "    x = df.drop('Exited', axis=1)\n",
    "    y = df['Exited']\n",
    "    \n",
    "    x_train, x_test, y_train, y_test = train_test_split(x, y, random_state=15, test_size=0.001, \n",
    "                                                        stratify=y)\n",
    "    \n",
    "    return x_train, y_train"
   ]
  },
  {
   "cell_type": "code",
   "execution_count": 13,
   "id": "9c91752b",
   "metadata": {},
   "outputs": [],
   "source": [
    "x4 = df4.drop('Exited', axis=1)\n",
    "y4 = df4['Exited']\n",
    "    \n",
    "x_train, x_test, y_train, y_test = train_test_split(x4, y4, random_state=15, test_size=0.2, \n",
    "                                                        stratify=y4)\n"
   ]
  },
  {
   "cell_type": "code",
   "execution_count": 14,
   "id": "480fe255",
   "metadata": {},
   "outputs": [],
   "source": [
    "df4 = x_train.copy()\n",
    "df4['Exited'] = y_train"
   ]
  },
  {
   "cell_type": "code",
   "execution_count": 15,
   "id": "65aadd7d",
   "metadata": {},
   "outputs": [],
   "source": [
    "class_0 = df4[df4['Exited'] == 0]\n",
    "class_1 = df4[df4['Exited'] == 1]"
   ]
  },
  {
   "cell_type": "code",
   "execution_count": 16,
   "id": "1279c0ca",
   "metadata": {},
   "outputs": [
    {
     "data": {
      "text/plain": [
       "(1302, 11)"
      ]
     },
     "execution_count": 16,
     "metadata": {},
     "output_type": "execute_result"
    }
   ],
   "source": [
    "class_1.shape"
   ]
  },
  {
   "cell_type": "code",
   "execution_count": 21,
   "id": "ac4e583d",
   "metadata": {},
   "outputs": [
    {
     "data": {
      "text/plain": [
       "(1698, 1698, 1698)"
      ]
     },
     "execution_count": 21,
     "metadata": {},
     "output_type": "execute_result"
    }
   ],
   "source": [
    "class_01, class_02, class_03 = np.array_split(class_0, 3)\n",
    "len(class_01), len(class_02), len(class_03)"
   ]
  },
  {
   "cell_type": "code",
   "execution_count": 18,
   "id": "2e6db916",
   "metadata": {},
   "outputs": [
    {
     "data": {
      "text/html": [
       "<div>\n",
       "<style scoped>\n",
       "    .dataframe tbody tr th:only-of-type {\n",
       "        vertical-align: middle;\n",
       "    }\n",
       "\n",
       "    .dataframe tbody tr th {\n",
       "        vertical-align: top;\n",
       "    }\n",
       "\n",
       "    .dataframe thead th {\n",
       "        text-align: right;\n",
       "    }\n",
       "</style>\n",
       "<table border=\"1\" class=\"dataframe\">\n",
       "  <thead>\n",
       "    <tr style=\"text-align: right;\">\n",
       "      <th></th>\n",
       "      <th>CreditScore</th>\n",
       "      <th>Age</th>\n",
       "      <th>Tenure</th>\n",
       "      <th>Balance</th>\n",
       "      <th>NumOfProducts</th>\n",
       "      <th>HasCrCard</th>\n",
       "      <th>IsActiveMember</th>\n",
       "      <th>EstimatedSalary</th>\n",
       "      <th>Germany</th>\n",
       "      <th>Spain</th>\n",
       "      <th>Exited</th>\n",
       "    </tr>\n",
       "  </thead>\n",
       "  <tbody>\n",
       "    <tr>\n",
       "      <th>2885</th>\n",
       "      <td>0.198</td>\n",
       "      <td>0.256757</td>\n",
       "      <td>6</td>\n",
       "      <td>0.000000</td>\n",
       "      <td>2</td>\n",
       "      <td>1</td>\n",
       "      <td>0</td>\n",
       "      <td>0.410583</td>\n",
       "      <td>0</td>\n",
       "      <td>0</td>\n",
       "      <td>0</td>\n",
       "    </tr>\n",
       "    <tr>\n",
       "      <th>6632</th>\n",
       "      <td>0.260</td>\n",
       "      <td>0.324324</td>\n",
       "      <td>1</td>\n",
       "      <td>0.606462</td>\n",
       "      <td>2</td>\n",
       "      <td>1</td>\n",
       "      <td>0</td>\n",
       "      <td>0.508652</td>\n",
       "      <td>0</td>\n",
       "      <td>0</td>\n",
       "      <td>0</td>\n",
       "    </tr>\n",
       "    <tr>\n",
       "      <th>6823</th>\n",
       "      <td>0.358</td>\n",
       "      <td>0.351351</td>\n",
       "      <td>1</td>\n",
       "      <td>0.000000</td>\n",
       "      <td>2</td>\n",
       "      <td>0</td>\n",
       "      <td>0</td>\n",
       "      <td>0.070313</td>\n",
       "      <td>0</td>\n",
       "      <td>1</td>\n",
       "      <td>0</td>\n",
       "    </tr>\n",
       "    <tr>\n",
       "      <th>9443</th>\n",
       "      <td>0.388</td>\n",
       "      <td>0.162162</td>\n",
       "      <td>4</td>\n",
       "      <td>0.291827</td>\n",
       "      <td>1</td>\n",
       "      <td>0</td>\n",
       "      <td>1</td>\n",
       "      <td>0.633812</td>\n",
       "      <td>0</td>\n",
       "      <td>0</td>\n",
       "      <td>0</td>\n",
       "    </tr>\n",
       "    <tr>\n",
       "      <th>756</th>\n",
       "      <td>0.628</td>\n",
       "      <td>0.243243</td>\n",
       "      <td>2</td>\n",
       "      <td>0.506822</td>\n",
       "      <td>2</td>\n",
       "      <td>1</td>\n",
       "      <td>0</td>\n",
       "      <td>0.390393</td>\n",
       "      <td>1</td>\n",
       "      <td>0</td>\n",
       "      <td>0</td>\n",
       "    </tr>\n",
       "  </tbody>\n",
       "</table>\n",
       "</div>"
      ],
      "text/plain": [
       "      CreditScore       Age  Tenure   Balance  NumOfProducts  HasCrCard  \\\n",
       "2885        0.198  0.256757       6  0.000000              2          1   \n",
       "6632        0.260  0.324324       1  0.606462              2          1   \n",
       "6823        0.358  0.351351       1  0.000000              2          0   \n",
       "9443        0.388  0.162162       4  0.291827              1          0   \n",
       "756         0.628  0.243243       2  0.506822              2          1   \n",
       "\n",
       "      IsActiveMember  EstimatedSalary  Germany  Spain  Exited  \n",
       "2885               0         0.410583        0      0       0  \n",
       "6632               0         0.508652        0      0       0  \n",
       "6823               0         0.070313        0      1       0  \n",
       "9443               1         0.633812        0      0       0  \n",
       "756                0         0.390393        1      0       0  "
      ]
     },
     "execution_count": 18,
     "metadata": {},
     "output_type": "execute_result"
    }
   ],
   "source": [
    "class_03.head()"
   ]
  },
  {
   "cell_type": "markdown",
   "id": "f2c9ae4e",
   "metadata": {},
   "source": [
    "<h2>First dataframe</h2>"
   ]
  },
  {
   "cell_type": "code",
   "execution_count": 22,
   "id": "f5c0c089",
   "metadata": {},
   "outputs": [
    {
     "data": {
      "text/plain": [
       "0    1698\n",
       "1    1302\n",
       "Name: Exited, dtype: int64"
      ]
     },
     "execution_count": 22,
     "metadata": {},
     "output_type": "execute_result"
    }
   ],
   "source": [
    "df04 = new_df(class_01, class_1)\n",
    "df04['Exited'].value_counts()"
   ]
  },
  {
   "cell_type": "code",
   "execution_count": 79,
   "id": "767b66ad",
   "metadata": {},
   "outputs": [
    {
     "data": {
      "text/plain": [
       "0    1698\n",
       "1    1302\n",
       "Name: Exited, dtype: int64"
      ]
     },
     "execution_count": 79,
     "metadata": {},
     "output_type": "execute_result"
    }
   ],
   "source": [
    "x_train,y_train = train_test(df04)\n",
    "y_train.value_counts()"
   ]
  },
  {
   "cell_type": "code",
   "execution_count": 23,
   "id": "4b88af4e",
   "metadata": {},
   "outputs": [
    {
     "name": "stdout",
     "output_type": "stream",
     "text": [
      "Epoch 1/50\n",
      "200/200 [==============================] - 1s 3ms/step - loss: 0.4813 - accuracy: 0.7946\n",
      "Epoch 2/50\n",
      "200/200 [==============================] - 1s 3ms/step - loss: 0.4391 - accuracy: 0.8053\n",
      "Epoch 3/50\n",
      "200/200 [==============================] - 1s 3ms/step - loss: 0.4107 - accuracy: 0.8263\n",
      "Epoch 4/50\n",
      "200/200 [==============================] - 0s 2ms/step - loss: 0.3866 - accuracy: 0.8412\n",
      "Epoch 5/50\n",
      "200/200 [==============================] - 1s 3ms/step - loss: 0.3746 - accuracy: 0.8435: 1s - loss: 0.3771 \n",
      "Epoch 6/50\n",
      "200/200 [==============================] - 0s 2ms/step - loss: 0.3703 - accuracy: 0.8490\n",
      "Epoch 7/50\n",
      "200/200 [==============================] - 1s 3ms/step - loss: 0.3650 - accuracy: 0.8466: 0s - loss: 0.3337 \n",
      "Epoch 8/50\n",
      "200/200 [==============================] - 1s 3ms/step - loss: 0.3645 - accuracy: 0.8502\n",
      "Epoch 9/50\n",
      "200/200 [==============================] - 1s 3ms/step - loss: 0.3575 - accuracy: 0.8558\n",
      "Epoch 10/50\n",
      "200/200 [==============================] - 1s 3ms/step - loss: 0.3583 - accuracy: 0.8554\n",
      "Epoch 11/50\n",
      "200/200 [==============================] - 1s 3ms/step - loss: 0.3549 - accuracy: 0.8541\n",
      "Epoch 12/50\n",
      "200/200 [==============================] - 1s 3ms/step - loss: 0.3515 - accuracy: 0.8555\n",
      "Epoch 13/50\n",
      "200/200 [==============================] - 1s 3ms/step - loss: 0.3495 - accuracy: 0.8562: 0s - loss: 0.335\n",
      "Epoch 14/50\n",
      "200/200 [==============================] - 1s 3ms/step - loss: 0.3481 - accuracy: 0.8580: 0s - loss: 0.3581 \n",
      "Epoch 15/50\n",
      "200/200 [==============================] - 1s 3ms/step - loss: 0.3464 - accuracy: 0.8587\n",
      "Epoch 16/50\n",
      "200/200 [==============================] - 1s 3ms/step - loss: 0.3492 - accuracy: 0.8573\n",
      "Epoch 17/50\n",
      "200/200 [==============================] - ETA: 0s - loss: 0.3418 - accuracy: 0.85 - 0s 2ms/step - loss: 0.3423 - accuracy: 0.8569\n",
      "Epoch 18/50\n",
      "200/200 [==============================] - 0s 2ms/step - loss: 0.3414 - accuracy: 0.8607\n",
      "Epoch 19/50\n",
      "200/200 [==============================] - 1s 3ms/step - loss: 0.3411 - accuracy: 0.8629\n",
      "Epoch 20/50\n",
      "200/200 [==============================] - 1s 3ms/step - loss: 0.3438 - accuracy: 0.8602\n",
      "Epoch 21/50\n",
      "200/200 [==============================] - 1s 3ms/step - loss: 0.3387 - accuracy: 0.8599\n",
      "Epoch 22/50\n",
      "200/200 [==============================] - 1s 3ms/step - loss: 0.3372 - accuracy: 0.8599\n",
      "Epoch 23/50\n",
      "200/200 [==============================] - 1s 3ms/step - loss: 0.3321 - accuracy: 0.8660\n",
      "Epoch 24/50\n",
      "200/200 [==============================] - 1s 3ms/step - loss: 0.3364 - accuracy: 0.8613\n",
      "Epoch 25/50\n",
      "200/200 [==============================] - 1s 3ms/step - loss: 0.3345 - accuracy: 0.8621\n",
      "Epoch 26/50\n",
      "200/200 [==============================] - 1s 3ms/step - loss: 0.3319 - accuracy: 0.8632\n",
      "Epoch 27/50\n",
      "200/200 [==============================] - 1s 3ms/step - loss: 0.3310 - accuracy: 0.8638\n",
      "Epoch 28/50\n",
      "200/200 [==============================] - 1s 3ms/step - loss: 0.3288 - accuracy: 0.8655\n",
      "Epoch 29/50\n",
      "200/200 [==============================] - 1s 3ms/step - loss: 0.3264 - accuracy: 0.8663\n",
      "Epoch 30/50\n",
      "200/200 [==============================] - 0s 2ms/step - loss: 0.3282 - accuracy: 0.8634\n",
      "Epoch 31/50\n",
      "200/200 [==============================] - 1s 3ms/step - loss: 0.3285 - accuracy: 0.8643\n",
      "Epoch 32/50\n",
      "200/200 [==============================] - 1s 3ms/step - loss: 0.3292 - accuracy: 0.8657\n",
      "Epoch 33/50\n",
      "200/200 [==============================] - 0s 2ms/step - loss: 0.3253 - accuracy: 0.8676\n",
      "Epoch 34/50\n",
      "200/200 [==============================] - 1s 3ms/step - loss: 0.3226 - accuracy: 0.8682\n",
      "Epoch 35/50\n",
      "200/200 [==============================] - 1s 3ms/step - loss: 0.3236 - accuracy: 0.8644\n",
      "Epoch 36/50\n",
      "200/200 [==============================] - 0s 2ms/step - loss: 0.3184 - accuracy: 0.8699\n",
      "Epoch 37/50\n",
      "200/200 [==============================] - 1s 3ms/step - loss: 0.3168 - accuracy: 0.8724\n",
      "Epoch 38/50\n",
      "200/200 [==============================] - 1s 3ms/step - loss: 0.3188 - accuracy: 0.8680\n",
      "Epoch 39/50\n",
      "200/200 [==============================] - 1s 3ms/step - loss: 0.3144 - accuracy: 0.8713\n",
      "Epoch 40/50\n",
      "200/200 [==============================] - 1s 3ms/step - loss: 0.3141 - accuracy: 0.8713\n",
      "Epoch 41/50\n",
      "200/200 [==============================] - 1s 3ms/step - loss: 0.3155 - accuracy: 0.8720\n",
      "Epoch 42/50\n",
      "200/200 [==============================] - 1s 3ms/step - loss: 0.3113 - accuracy: 0.8724\n",
      "Epoch 43/50\n",
      "200/200 [==============================] - 1s 3ms/step - loss: 0.3087 - accuracy: 0.8720\n",
      "Epoch 44/50\n",
      "200/200 [==============================] - 1s 3ms/step - loss: 0.3105 - accuracy: 0.8716\n",
      "Epoch 45/50\n",
      "200/200 [==============================] - 1s 3ms/step - loss: 0.3072 - accuracy: 0.8716\n",
      "Epoch 46/50\n",
      "200/200 [==============================] - 1s 3ms/step - loss: 0.3082 - accuracy: 0.8732\n",
      "Epoch 47/50\n",
      "200/200 [==============================] - 1s 3ms/step - loss: 0.3046 - accuracy: 0.8727\n",
      "Epoch 48/50\n",
      "200/200 [==============================] - 1s 3ms/step - loss: 0.3025 - accuracy: 0.8748\n",
      "Epoch 49/50\n",
      "200/200 [==============================] - 1s 3ms/step - loss: 0.2995 - accuracy: 0.8749\n",
      "Epoch 50/50\n",
      "200/200 [==============================] - 1s 3ms/step - loss: 0.3023 - accuracy: 0.8754\n",
      "50/50 [==============================] - 0s 2ms/step - loss: 0.3805 - accuracy: 0.8569\n",
      "\n",
      "\n",
      "              precision    recall  f1-score   support\n",
      "\n",
      "           0       0.87      0.97      0.92      1274\n",
      "           1       0.79      0.41      0.54       326\n",
      "\n",
      "    accuracy                           0.86      1600\n",
      "   macro avg       0.83      0.69      0.73      1600\n",
      "weighted avg       0.85      0.86      0.84      1600\n",
      "\n"
     ]
    }
   ],
   "source": [
    "y_pred1 = model(x_train, y_train, x_test, y_test, epochs=50)"
   ]
  },
  {
   "cell_type": "markdown",
   "id": "f579c3f6",
   "metadata": {},
   "source": [
    "<h2>Second dataframe</h2>"
   ]
  },
  {
   "cell_type": "code",
   "execution_count": 24,
   "id": "e1e546ef",
   "metadata": {},
   "outputs": [
    {
     "data": {
      "text/plain": [
       "0    1698\n",
       "1    1302\n",
       "Name: Exited, dtype: int64"
      ]
     },
     "execution_count": 24,
     "metadata": {},
     "output_type": "execute_result"
    }
   ],
   "source": [
    "df05 = new_df(class_02, class_1)\n",
    "df05['Exited'].value_counts()"
   ]
  },
  {
   "cell_type": "code",
   "execution_count": 25,
   "id": "9751ac83",
   "metadata": {},
   "outputs": [
    {
     "data": {
      "text/plain": [
       "0    1696\n",
       "1    1301\n",
       "Name: Exited, dtype: int64"
      ]
     },
     "execution_count": 25,
     "metadata": {},
     "output_type": "execute_result"
    }
   ],
   "source": [
    "x_train, y_train = train_test(df05)\n",
    "y_train.value_counts()"
   ]
  },
  {
   "cell_type": "code",
   "execution_count": 26,
   "id": "91036a8b",
   "metadata": {},
   "outputs": [
    {
     "name": "stdout",
     "output_type": "stream",
     "text": [
      "Epoch 1/50\n",
      "94/94 [==============================] - 1s 3ms/step - loss: 0.6436 - accuracy: 0.6343\n",
      "Epoch 2/50\n",
      "94/94 [==============================] - 0s 3ms/step - loss: 0.6075 - accuracy: 0.6830\n",
      "Epoch 3/50\n",
      "94/94 [==============================] - 0s 3ms/step - loss: 0.5647 - accuracy: 0.7114\n",
      "Epoch 4/50\n",
      "94/94 [==============================] - 0s 4ms/step - loss: 0.5346 - accuracy: 0.7361\n",
      "Epoch 5/50\n",
      "94/94 [==============================] - 0s 3ms/step - loss: 0.5285 - accuracy: 0.7394\n",
      "Epoch 6/50\n",
      "94/94 [==============================] - ETA: 0s - loss: 0.5225 - accuracy: 0.73 - 0s 3ms/step - loss: 0.5218 - accuracy: 0.7377\n",
      "Epoch 7/50\n",
      "94/94 [==============================] - 0s 3ms/step - loss: 0.5209 - accuracy: 0.7364\n",
      "Epoch 8/50\n",
      "94/94 [==============================] - 0s 3ms/step - loss: 0.4994 - accuracy: 0.7551\n",
      "Epoch 9/50\n",
      "94/94 [==============================] - 0s 3ms/step - loss: 0.4957 - accuracy: 0.7518\n",
      "Epoch 10/50\n",
      "94/94 [==============================] - 0s 3ms/step - loss: 0.4902 - accuracy: 0.7598\n",
      "Epoch 11/50\n",
      "94/94 [==============================] - 0s 3ms/step - loss: 0.4882 - accuracy: 0.7624\n",
      "Epoch 12/50\n",
      "94/94 [==============================] - 0s 3ms/step - loss: 0.4834 - accuracy: 0.7601\n",
      "Epoch 13/50\n",
      "94/94 [==============================] - 0s 3ms/step - loss: 0.4724 - accuracy: 0.7704\n",
      "Epoch 14/50\n",
      "94/94 [==============================] - 0s 3ms/step - loss: 0.4742 - accuracy: 0.7678: 0s - loss: 0.4790 - accuracy: \n",
      "Epoch 15/50\n",
      "94/94 [==============================] - 0s 3ms/step - loss: 0.4695 - accuracy: 0.7751\n",
      "Epoch 16/50\n",
      "94/94 [==============================] - 0s 3ms/step - loss: 0.4634 - accuracy: 0.7764\n",
      "Epoch 17/50\n",
      "94/94 [==============================] - 0s 3ms/step - loss: 0.4688 - accuracy: 0.7698\n",
      "Epoch 18/50\n",
      "94/94 [==============================] - 0s 3ms/step - loss: 0.4576 - accuracy: 0.7838\n",
      "Epoch 19/50\n",
      "94/94 [==============================] - 0s 3ms/step - loss: 0.4570 - accuracy: 0.7868\n",
      "Epoch 20/50\n",
      "94/94 [==============================] - 0s 3ms/step - loss: 0.4540 - accuracy: 0.7858\n",
      "Epoch 21/50\n",
      "94/94 [==============================] - 0s 3ms/step - loss: 0.4482 - accuracy: 0.7905\n",
      "Epoch 22/50\n",
      "94/94 [==============================] - 0s 3ms/step - loss: 0.4435 - accuracy: 0.7961\n",
      "Epoch 23/50\n",
      "94/94 [==============================] - 0s 3ms/step - loss: 0.4562 - accuracy: 0.7784\n",
      "Epoch 24/50\n",
      "94/94 [==============================] - 0s 3ms/step - loss: 0.4527 - accuracy: 0.7858\n",
      "Epoch 25/50\n",
      "94/94 [==============================] - 0s 3ms/step - loss: 0.4396 - accuracy: 0.7925\n",
      "Epoch 26/50\n",
      "94/94 [==============================] - 0s 3ms/step - loss: 0.4368 - accuracy: 0.7958\n",
      "Epoch 27/50\n",
      "94/94 [==============================] - 0s 3ms/step - loss: 0.4387 - accuracy: 0.7975\n",
      "Epoch 28/50\n",
      "94/94 [==============================] - 0s 3ms/step - loss: 0.4299 - accuracy: 0.8001\n",
      "Epoch 29/50\n",
      "94/94 [==============================] - 0s 3ms/step - loss: 0.4312 - accuracy: 0.7988\n",
      "Epoch 30/50\n",
      "94/94 [==============================] - 0s 3ms/step - loss: 0.4289 - accuracy: 0.7955\n",
      "Epoch 31/50\n",
      "94/94 [==============================] - 0s 3ms/step - loss: 0.4247 - accuracy: 0.8015\n",
      "Epoch 32/50\n",
      "94/94 [==============================] - 0s 3ms/step - loss: 0.4269 - accuracy: 0.7995\n",
      "Epoch 33/50\n",
      "94/94 [==============================] - 0s 3ms/step - loss: 0.4222 - accuracy: 0.7985\n",
      "Epoch 34/50\n",
      "94/94 [==============================] - 0s 3ms/step - loss: 0.4171 - accuracy: 0.8035\n",
      "Epoch 35/50\n",
      "94/94 [==============================] - 0s 3ms/step - loss: 0.4239 - accuracy: 0.7978\n",
      "Epoch 36/50\n",
      "94/94 [==============================] - 0s 3ms/step - loss: 0.4131 - accuracy: 0.8065\n",
      "Epoch 37/50\n",
      "94/94 [==============================] - 0s 3ms/step - loss: 0.4195 - accuracy: 0.7985\n",
      "Epoch 38/50\n",
      "94/94 [==============================] - 0s 3ms/step - loss: 0.4042 - accuracy: 0.8115\n",
      "Epoch 39/50\n",
      "94/94 [==============================] - 0s 3ms/step - loss: 0.4070 - accuracy: 0.8071\n",
      "Epoch 40/50\n",
      "94/94 [==============================] - 0s 3ms/step - loss: 0.4029 - accuracy: 0.8145\n",
      "Epoch 41/50\n",
      "94/94 [==============================] - 0s 3ms/step - loss: 0.4049 - accuracy: 0.8111\n",
      "Epoch 42/50\n",
      "94/94 [==============================] - 0s 3ms/step - loss: 0.4069 - accuracy: 0.8051\n",
      "Epoch 43/50\n",
      "94/94 [==============================] - 0s 3ms/step - loss: 0.3976 - accuracy: 0.8115\n",
      "Epoch 44/50\n",
      "94/94 [==============================] - 0s 3ms/step - loss: 0.4060 - accuracy: 0.8025\n",
      "Epoch 45/50\n",
      "94/94 [==============================] - 0s 3ms/step - loss: 0.4019 - accuracy: 0.8101\n",
      "Epoch 46/50\n",
      "94/94 [==============================] - 0s 3ms/step - loss: 0.3968 - accuracy: 0.8145\n",
      "Epoch 47/50\n",
      "94/94 [==============================] - 0s 3ms/step - loss: 0.3988 - accuracy: 0.8101\n",
      "Epoch 48/50\n",
      "94/94 [==============================] - 0s 3ms/step - loss: 0.3925 - accuracy: 0.8198\n",
      "Epoch 49/50\n",
      "94/94 [==============================] - 0s 3ms/step - loss: 0.3900 - accuracy: 0.8161\n",
      "Epoch 50/50\n",
      "94/94 [==============================] - 0s 3ms/step - loss: 0.3917 - accuracy: 0.8242\n",
      "50/50 [==============================] - 0s 2ms/step - loss: 0.4697 - accuracy: 0.8050\n",
      "\n",
      "\n",
      "              precision    recall  f1-score   support\n",
      "\n",
      "           0       0.90      0.85      0.87      1274\n",
      "           1       0.52      0.65      0.57       326\n",
      "\n",
      "    accuracy                           0.81      1600\n",
      "   macro avg       0.71      0.75      0.72      1600\n",
      "weighted avg       0.82      0.81      0.81      1600\n",
      "\n"
     ]
    }
   ],
   "source": [
    "y_pred2 = model(x_train, y_train, x_test, y_test, epochs=50)"
   ]
  },
  {
   "cell_type": "markdown",
   "id": "735b48f0",
   "metadata": {},
   "source": [
    "<h2>Third dataframe</h2>"
   ]
  },
  {
   "cell_type": "code",
   "execution_count": 27,
   "id": "e7c31517",
   "metadata": {},
   "outputs": [
    {
     "data": {
      "text/plain": [
       "0    1698\n",
       "1    1302\n",
       "Name: Exited, dtype: int64"
      ]
     },
     "execution_count": 27,
     "metadata": {},
     "output_type": "execute_result"
    }
   ],
   "source": [
    "df06 = new_df(class_03, class_1)\n",
    "df06['Exited'].value_counts()"
   ]
  },
  {
   "cell_type": "code",
   "execution_count": 30,
   "id": "78e14ac3",
   "metadata": {},
   "outputs": [
    {
     "data": {
      "text/plain": [
       "0    1696\n",
       "1    1301\n",
       "Name: Exited, dtype: int64"
      ]
     },
     "execution_count": 30,
     "metadata": {},
     "output_type": "execute_result"
    }
   ],
   "source": [
    "x_train, y_train = train_test(df06)\n",
    "y_train.value_counts()"
   ]
  },
  {
   "cell_type": "code",
   "execution_count": 31,
   "id": "07bfe982",
   "metadata": {},
   "outputs": [
    {
     "name": "stdout",
     "output_type": "stream",
     "text": [
      "Epoch 1/50\n",
      "94/94 [==============================] - 1s 3ms/step - loss: 0.6518 - accuracy: 0.6146\n",
      "Epoch 2/50\n",
      "94/94 [==============================] - 0s 3ms/step - loss: 0.6013 - accuracy: 0.6783\n",
      "Epoch 3/50\n",
      "94/94 [==============================] - 0s 3ms/step - loss: 0.5606 - accuracy: 0.7100\n",
      "Epoch 4/50\n",
      "94/94 [==============================] - 0s 3ms/step - loss: 0.5400 - accuracy: 0.7184\n",
      "Epoch 5/50\n",
      "94/94 [==============================] - 0s 3ms/step - loss: 0.5260 - accuracy: 0.7417\n",
      "Epoch 6/50\n",
      "94/94 [==============================] - 0s 3ms/step - loss: 0.5149 - accuracy: 0.7471\n",
      "Epoch 7/50\n",
      "94/94 [==============================] - 0s 3ms/step - loss: 0.4988 - accuracy: 0.7598\n",
      "Epoch 8/50\n",
      "94/94 [==============================] - 0s 3ms/step - loss: 0.4928 - accuracy: 0.7578\n",
      "Epoch 9/50\n",
      "94/94 [==============================] - 0s 3ms/step - loss: 0.4923 - accuracy: 0.7588\n",
      "Epoch 10/50\n",
      "94/94 [==============================] - 0s 3ms/step - loss: 0.4897 - accuracy: 0.7588\n",
      "Epoch 11/50\n",
      "94/94 [==============================] - 0s 3ms/step - loss: 0.4848 - accuracy: 0.7668\n",
      "Epoch 12/50\n",
      "94/94 [==============================] - 0s 3ms/step - loss: 0.4820 - accuracy: 0.7634\n",
      "Epoch 13/50\n",
      "94/94 [==============================] - 0s 3ms/step - loss: 0.4818 - accuracy: 0.7631\n",
      "Epoch 14/50\n",
      "94/94 [==============================] - 0s 3ms/step - loss: 0.4702 - accuracy: 0.7684\n",
      "Epoch 15/50\n",
      "94/94 [==============================] - 0s 3ms/step - loss: 0.4725 - accuracy: 0.7741\n",
      "Epoch 16/50\n",
      "94/94 [==============================] - 0s 3ms/step - loss: 0.4677 - accuracy: 0.7711\n",
      "Epoch 17/50\n",
      "94/94 [==============================] - 0s 3ms/step - loss: 0.4677 - accuracy: 0.7708\n",
      "Epoch 18/50\n",
      "94/94 [==============================] - 0s 3ms/step - loss: 0.4641 - accuracy: 0.7704\n",
      "Epoch 19/50\n",
      "94/94 [==============================] - 0s 3ms/step - loss: 0.4542 - accuracy: 0.7781\n",
      "Epoch 20/50\n",
      "94/94 [==============================] - 0s 3ms/step - loss: 0.4580 - accuracy: 0.7758\n",
      "Epoch 21/50\n",
      "94/94 [==============================] - 0s 3ms/step - loss: 0.4495 - accuracy: 0.7824\n",
      "Epoch 22/50\n",
      "94/94 [==============================] - 0s 3ms/step - loss: 0.4512 - accuracy: 0.7865\n",
      "Epoch 23/50\n",
      "94/94 [==============================] - 0s 3ms/step - loss: 0.4464 - accuracy: 0.7885\n",
      "Epoch 24/50\n",
      "94/94 [==============================] - 0s 3ms/step - loss: 0.4441 - accuracy: 0.7855\n",
      "Epoch 25/50\n",
      "94/94 [==============================] - 0s 3ms/step - loss: 0.4422 - accuracy: 0.7881\n",
      "Epoch 26/50\n",
      "94/94 [==============================] - 0s 3ms/step - loss: 0.4385 - accuracy: 0.7915\n",
      "Epoch 27/50\n",
      "94/94 [==============================] - 0s 3ms/step - loss: 0.4384 - accuracy: 0.7898\n",
      "Epoch 28/50\n",
      "94/94 [==============================] - 0s 3ms/step - loss: 0.4573 - accuracy: 0.7761\n",
      "Epoch 29/50\n",
      "94/94 [==============================] - 0s 3ms/step - loss: 0.4349 - accuracy: 0.7988\n",
      "Epoch 30/50\n",
      "94/94 [==============================] - 0s 3ms/step - loss: 0.4314 - accuracy: 0.7998\n",
      "Epoch 31/50\n",
      "94/94 [==============================] - 0s 3ms/step - loss: 0.4275 - accuracy: 0.7998\n",
      "Epoch 32/50\n",
      "94/94 [==============================] - 0s 3ms/step - loss: 0.4306 - accuracy: 0.7971\n",
      "Epoch 33/50\n",
      "94/94 [==============================] - 0s 3ms/step - loss: 0.4227 - accuracy: 0.8015\n",
      "Epoch 34/50\n",
      "94/94 [==============================] - 0s 3ms/step - loss: 0.4227 - accuracy: 0.7971\n",
      "Epoch 35/50\n",
      "94/94 [==============================] - 0s 3ms/step - loss: 0.4267 - accuracy: 0.7988\n",
      "Epoch 36/50\n",
      "94/94 [==============================] - 0s 3ms/step - loss: 0.4126 - accuracy: 0.8071\n",
      "Epoch 37/50\n",
      "94/94 [==============================] - 0s 3ms/step - loss: 0.4203 - accuracy: 0.7995\n",
      "Epoch 38/50\n",
      "94/94 [==============================] - 0s 3ms/step - loss: 0.4101 - accuracy: 0.8155\n",
      "Epoch 39/50\n",
      "94/94 [==============================] - 0s 3ms/step - loss: 0.4111 - accuracy: 0.8071\n",
      "Epoch 40/50\n",
      "94/94 [==============================] - 0s 3ms/step - loss: 0.4108 - accuracy: 0.7998\n",
      "Epoch 41/50\n",
      "94/94 [==============================] - ETA: 0s - loss: 0.4090 - accuracy: 0.80 - 0s 3ms/step - loss: 0.4124 - accuracy: 0.8018\n",
      "Epoch 42/50\n",
      "94/94 [==============================] - 0s 3ms/step - loss: 0.4065 - accuracy: 0.8125\n",
      "Epoch 43/50\n",
      "94/94 [==============================] - 0s 3ms/step - loss: 0.4033 - accuracy: 0.8091\n",
      "Epoch 44/50\n",
      "94/94 [==============================] - 0s 3ms/step - loss: 0.4029 - accuracy: 0.8098\n",
      "Epoch 45/50\n",
      "94/94 [==============================] - 0s 3ms/step - loss: 0.3987 - accuracy: 0.8218\n",
      "Epoch 46/50\n",
      "94/94 [==============================] - 0s 3ms/step - loss: 0.3928 - accuracy: 0.8145\n",
      "Epoch 47/50\n",
      "94/94 [==============================] - 0s 3ms/step - loss: 0.3891 - accuracy: 0.8182\n",
      "Epoch 48/50\n",
      "94/94 [==============================] - 0s 3ms/step - loss: 0.3912 - accuracy: 0.8135\n",
      "Epoch 49/50\n",
      "94/94 [==============================] - 0s 3ms/step - loss: 0.3909 - accuracy: 0.8155\n",
      "Epoch 50/50\n",
      "94/94 [==============================] - 0s 3ms/step - loss: 0.3832 - accuracy: 0.8198\n",
      "50/50 [==============================] - 0s 2ms/step - loss: 0.5085 - accuracy: 0.7750\n",
      "\n",
      "\n",
      "              precision    recall  f1-score   support\n",
      "\n",
      "           0       0.91      0.80      0.85      1274\n",
      "           1       0.46      0.67      0.55       326\n",
      "\n",
      "    accuracy                           0.78      1600\n",
      "   macro avg       0.68      0.74      0.70      1600\n",
      "weighted avg       0.82      0.78      0.79      1600\n",
      "\n"
     ]
    }
   ],
   "source": [
    "y_pred3 = model(x_train, y_train, x_test, y_test, epochs=50)"
   ]
  },
  {
   "cell_type": "code",
   "execution_count": 34,
   "id": "9e55aa97",
   "metadata": {},
   "outputs": [],
   "source": [
    "def get_final_y_predict(y_pred1, y_pred2, y_pred3):\n",
    "    final_pred = []\n",
    "    for index in range(len(y_pred3)):\n",
    "        vote = y_pred1[index] + y_pred2[index] + y_pred3[index]\n",
    "        if vote <= 1:\n",
    "            final_pred.append(0)\n",
    "        else:\n",
    "            final_pred.append(1)\n",
    "            \n",
    "    return final_pred"
   ]
  },
  {
   "cell_type": "code",
   "execution_count": 32,
   "id": "6abf0c3e",
   "metadata": {},
   "outputs": [
    {
     "data": {
      "text/plain": [
       "(1600, 1600, 1600)"
      ]
     },
     "execution_count": 32,
     "metadata": {},
     "output_type": "execute_result"
    }
   ],
   "source": [
    "len(y_pred1),len(y_pred2), len(y_pred3)   "
   ]
  },
  {
   "cell_type": "code",
   "execution_count": 33,
   "id": "9d019661",
   "metadata": {},
   "outputs": [
    {
     "data": {
      "text/plain": [
       "1600"
      ]
     },
     "execution_count": 33,
     "metadata": {},
     "output_type": "execute_result"
    }
   ],
   "source": [
    "len(y_test)"
   ]
  },
  {
   "cell_type": "code",
   "execution_count": 36,
   "id": "78b94b6c",
   "metadata": {},
   "outputs": [
    {
     "name": "stdout",
     "output_type": "stream",
     "text": [
      "              precision    recall  f1-score   support\n",
      "\n",
      "           0       0.89      0.88      0.88      1274\n",
      "           1       0.55      0.59      0.57       326\n",
      "\n",
      "    accuracy                           0.82      1600\n",
      "   macro avg       0.72      0.73      0.73      1600\n",
      "weighted avg       0.82      0.82      0.82      1600\n",
      "\n"
     ]
    }
   ],
   "source": [
    "final_pred = get_final_y_predict(y_pred1, y_pred2, y_pred3)\n",
    "print(classification_report(y_test, final_pred))"
   ]
  },
  {
   "cell_type": "markdown",
   "id": "795692c4",
   "metadata": {},
   "source": [
    "<h1>The ensembling method socres were not satisfactory</h1>"
   ]
  }
 ],
 "metadata": {
  "kernelspec": {
   "display_name": "Python 3",
   "language": "python",
   "name": "python3"
  },
  "language_info": {
   "codemirror_mode": {
    "name": "ipython",
    "version": 3
   },
   "file_extension": ".py",
   "mimetype": "text/x-python",
   "name": "python",
   "nbconvert_exporter": "python",
   "pygments_lexer": "ipython3",
   "version": "3.8.11"
  }
 },
 "nbformat": 4,
 "nbformat_minor": 5
}
