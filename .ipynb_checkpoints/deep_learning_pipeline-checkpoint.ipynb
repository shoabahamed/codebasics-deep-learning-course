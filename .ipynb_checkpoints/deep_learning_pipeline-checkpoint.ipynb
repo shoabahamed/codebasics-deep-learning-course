{
 "cells": [
  {
   "cell_type": "code",
   "execution_count": 18,
   "id": "d39988c5",
   "metadata": {},
   "outputs": [],
   "source": [
    "import tensorflow as tf\n",
    "import os"
   ]
  },
  {
   "cell_type": "code",
   "execution_count": 101,
   "id": "c4f50f0e",
   "metadata": {},
   "outputs": [
    {
     "name": "stdout",
     "output_type": "stream",
     "text": [
      "b'.\\\\text_files\\\\negative\\\\neg0.txt'\n",
      "b'.\\\\text_files\\\\negative\\\\neg1.txt'\n",
      "b'.\\\\text_files\\\\negative\\\\neg2.txt'\n",
      "b'.\\\\text_files\\\\positive\\\\pos0.txt'\n",
      "b'.\\\\text_files\\\\positive\\\\pos1.txt'\n",
      "b'.\\\\text_files\\\\positive\\\\pos2.txt'\n"
     ]
    }
   ],
   "source": [
    "text_ds = tf.data.Dataset.list_files('./text_files/*/*', shuffle=False)\n",
    "for file in text_ds:\n",
    "    print(file.numpy())"
   ]
  },
  {
   "cell_type": "code",
   "execution_count": 102,
   "id": "6972476e",
   "metadata": {},
   "outputs": [
    {
     "name": "stdout",
     "output_type": "stream",
     "text": [
      "b'negative'\n",
      "b'negative'\n",
      "b'negative'\n",
      "b'positive'\n",
      "b'positive'\n",
      "b'positive'\n"
     ]
    }
   ],
   "source": [
    "def get_label(file_path):\n",
    "    text_name = tf.strings.split(file_path, os.path.sep)[-2]\n",
    "    return text_name\n",
    "\n",
    "\n",
    "for i in text_ds.map(get_label):\n",
    "    print(i.numpy())"
   ]
  },
  {
   "cell_type": "code",
   "execution_count": 103,
   "id": "8f382e02",
   "metadata": {},
   "outputs": [],
   "source": [
    "def text_processed(file_path):\n",
    "    txt_name = get_label(file_path)\n",
    "    text = tf.io.read_file(file_path)\n",
    "    return txt_name, text\n",
    "\n",
    "new_ds = text_ds.map(text_processed)"
   ]
  },
  {
   "cell_type": "code",
   "execution_count": 104,
   "id": "edda2433",
   "metadata": {},
   "outputs": [
    {
     "name": "stdout",
     "output_type": "stream",
     "text": [
      "tf.Tensor(b'worst', shape=(), dtype=string)\n",
      "tf.Tensor(b'negative', shape=(), dtype=string)\n",
      "tf.Tensor(b'bad', shape=(), dtype=string)\n",
      "tf.Tensor(b'negative', shape=(), dtype=string)\n",
      "tf.Tensor(b'nice\\r\\n', shape=(), dtype=string)\n",
      "tf.Tensor(b'positive', shape=(), dtype=string)\n",
      "tf.Tensor(b'good', shape=(), dtype=string)\n",
      "tf.Tensor(b'positive', shape=(), dtype=string)\n"
     ]
    }
   ],
   "source": [
    "new_text_ds = new_ds.filter(lambda label, review: review != '')\n",
    "\n",
    "for label, text in new_text_ds:\n",
    "    print(text)\n",
    "    print(label)"
   ]
  },
  {
   "cell_type": "code",
   "execution_count": 106,
   "id": "3cb72109",
   "metadata": {},
   "outputs": [
    {
     "name": "stdout",
     "output_type": "stream",
     "text": [
      "tf.Tensor(b'worst', shape=(), dtype=string)\n",
      "tf.Tensor(b'negative', shape=(), dtype=string)\n",
      "tf.Tensor(b'good', shape=(), dtype=string)\n",
      "tf.Tensor(b'positive', shape=(), dtype=string)\n",
      "tf.Tensor(b'nice', shape=(), dtype=string)\n",
      "tf.Tensor(b'positive', shape=(), dtype=string)\n",
      "tf.Tensor(b'bad', shape=(), dtype=string)\n",
      "tf.Tensor(b'negative', shape=(), dtype=string)\n"
     ]
    }
   ],
   "source": [
    "t_ds = text_ds.map(text_processed).filter(lambda label, review: review != '').shuffle(3)\n",
    "\n",
    "for label, text in t_ds:\n",
    "    print(text)\n",
    "    print(label)"
   ]
  }
 ],
 "metadata": {
  "kernelspec": {
   "display_name": "Python 3 (ipykernel)",
   "language": "python",
   "name": "python3"
  },
  "language_info": {
   "codemirror_mode": {
    "name": "ipython",
    "version": 3
   },
   "file_extension": ".py",
   "mimetype": "text/x-python",
   "name": "python",
   "nbconvert_exporter": "python",
   "pygments_lexer": "ipython3",
   "version": "3.9.12"
  }
 },
 "nbformat": 4,
 "nbformat_minor": 5
}
