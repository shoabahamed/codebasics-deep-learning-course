{
 "cells": [
  {
   "cell_type": "markdown",
   "metadata": {
    "colab_type": "text",
    "id": "view-in-github"
   },
   "source": [
    "<a href=\"https://colab.research.google.com/github/shoabahamed/codebasics-deep-learning-course/blob/main/gpu_vs_cpu_performance.ipynb\" target=\"_parent\"><img src=\"https://colab.research.google.com/assets/colab-badge.svg\" alt=\"Open In Colab\"/></a>"
   ]
  },
  {
   "cell_type": "code",
   "execution_count": 12,
   "metadata": {
    "id": "IqR2PQG4ZaZ0"
   },
   "outputs": [],
   "source": [
    "import tensorflow as tf\n",
    "from tensorflow import keras\n",
    "import matplotlib.pyplot as plt"
   ]
  },
  {
   "cell_type": "code",
   "execution_count": 3,
   "metadata": {
    "colab": {
     "base_uri": "https://localhost:8080/"
    },
    "id": "rGNhTyIi85fR",
    "outputId": "32a69207-ccdf-43bc-8c75-f8e15357e118"
   },
   "outputs": [
    {
     "data": {
      "text/plain": [
       "[PhysicalDevice(name='/physical_device:CPU:0', device_type='CPU'),\n",
       " PhysicalDevice(name='/physical_device:GPU:0', device_type='GPU')]"
      ]
     },
     "execution_count": 3,
     "metadata": {},
     "output_type": "execute_result"
    }
   ],
   "source": [
    "tf.config.experimental.list_physical_devices()"
   ]
  },
  {
   "cell_type": "code",
   "execution_count": 4,
   "metadata": {
    "colab": {
     "base_uri": "https://localhost:8080/"
    },
    "id": "Z6LT-Y6582xF",
    "outputId": "1bbb9ffe-9b52-4fd3-e52d-d8b48fc7cb9a"
   },
   "outputs": [
    {
     "name": "stdout",
     "output_type": "stream",
     "text": [
      "Num GPUs Available:  1\n"
     ]
    }
   ],
   "source": [
    "print(\"Num GPUs Available: \", len(tf.config.list_physical_devices('GPU')))"
   ]
  },
  {
   "cell_type": "code",
   "execution_count": 17,
   "metadata": {
    "colab": {
     "base_uri": "https://localhost:8080/"
    },
    "id": "itmssH839GrG",
    "outputId": "75ba166d-b8ec-4f7c-af2f-3107b482683b"
   },
   "outputs": [
    {
     "data": {
      "text/plain": [
       "(60000, 28, 28)"
      ]
     },
     "execution_count": 17,
     "metadata": {},
     "output_type": "execute_result"
    }
   ],
   "source": [
    "(x_train, y_train), (x_test, y_test) = keras.datasets.fashion_mnist.load_data()\n",
    "x_train.shape"
   ]
  },
  {
   "cell_type": "code",
   "execution_count": 11,
   "metadata": {
    "id": "4jMt7uop-DFb"
   },
   "outputs": [],
   "source": [
    "classes = ['t_shirt', 'trouser', 'pullover', 'dress', 'coat', 'sandal', 'shirt', 'sneaker', 'bag', 'ankle_boot']"
   ]
  },
  {
   "cell_type": "code",
   "execution_count": 13,
   "metadata": {
    "id": "r2yY7UlZ9dNK"
   },
   "outputs": [],
   "source": [
    "def show_img(x, y, index):\n",
    "    plt.figure(figsize=(5, 2))\n",
    "    plt.imshow(x[index])\n",
    "    plt.xlabel(classes[y[index]])"
   ]
  },
  {
   "cell_type": "code",
   "execution_count": 16,
   "metadata": {
    "colab": {
     "base_uri": "https://localhost:8080/",
     "height": 174
    },
    "id": "Z_gJg1Ni-nIr",
    "outputId": "c53dfaa4-4dba-40e8-a626-8d3b93e54bf4"
   },
   "outputs": [
    {
     "data": {
      "image/png": "[encoded data removed]",
      "text/plain": [
       "<Figure size 360x144 with 1 Axes>"
      ]
     },
     "metadata": {
      "needs_background": "light"
     },
     "output_type": "display_data"
    }
   ],
   "source": [
    "show_img(x_train, y_train, 4)"
   ]
  },
  {
   "cell_type": "code",
   "execution_count": 20,
   "metadata": {
    "id": "vwUOLNQ6-wSQ"
   },
   "outputs": [],
   "source": [
    "def get_ann_model():\n",
    "    ann = keras.Sequential([\n",
    "                keras.layers.Flatten(input_shape=(28, 28)),\n",
    "                keras.layers.Dense(3000, activation='relu'),\n",
    "                keras.layers.Dense(1000, activation='relu'),\n",
    "                keras.layers.Dense(10, activation='sigmoid')\n",
    "    ])\n",
    "\n",
    "    ann.compile(\n",
    "        optimizer = 'adam',\n",
    "        loss = 'sparse_categorical_crossentropy',\n",
    "        metrics = ['accuracy']\n",
    "    )\n",
    "\n",
    "    return ann"
   ]
  },
  {
   "cell_type": "markdown",
   "metadata": {
    "id": "O5pMEWRgAiEJ"
   },
   "source": [
    "# with cpu"
   ]
  },
  {
   "cell_type": "code",
   "execution_count": 24,
   "metadata": {
    "colab": {
     "base_uri": "https://localhost:8080/"
    },
    "id": "COdiVO9ICDBR",
    "outputId": "0ae57f2f-3c95-439c-8688-ae8c15c7badc"
   },
   "outputs": [
    {
     "name": "stdout",
     "output_type": "stream",
     "text": [
      "Epoch 1/2\n",
      "1875/1875 [==============================] - 74s 39ms/step - loss: 3.9206 - accuracy: 0.7850\n",
      "Epoch 2/2\n",
      "1875/1875 [==============================] - 71s 38ms/step - loss: 0.4599 - accuracy: 0.8345\n",
      "\n",
      "313/313 [==============================] - 3s 9ms/step - loss: 0.4763 - accuracy: 0.8287\n",
      "Score: [0.4763336777687073, 0.8287000060081482]\n",
      "1 loop, best of 1: 2min 27s per loop\n"
     ]
    }
   ],
   "source": [
    "%%timeit -n1 -r1\n",
    "\n",
    "with tf.device('/CPU:0'):\n",
    "    cpu_ann = get_ann_model()\n",
    "    cpu_ann.fit(x_train, y_train, epochs=2)\n",
    "    print()\n",
    "    print(f'Score: {cpu_ann.evaluate(x_test, y_test)}')"
   ]
  },
  {
   "cell_type": "code",
   "execution_count": 26,
   "metadata": {
    "colab": {
     "base_uri": "https://localhost:8080/"
    },
    "id": "Kc5eoJ7mCGVn",
    "outputId": "d701b607-eb25-44fc-81fb-8623416c1bb0"
   },
   "outputs": [
    {
     "name": "stdout",
     "output_type": "stream",
     "text": [
      "Epoch 1/5\n",
      "1875/1875 [==============================] - 6s 3ms/step - loss: 3.2914 - accuracy: 0.7932\n",
      "Epoch 2/5\n",
      "1875/1875 [==============================] - 5s 3ms/step - loss: 0.4437 - accuracy: 0.8428\n",
      "Epoch 3/5\n",
      "1875/1875 [==============================] - 5s 3ms/step - loss: 0.4177 - accuracy: 0.8520\n",
      "Epoch 4/5\n",
      "1875/1875 [==============================] - 5s 3ms/step - loss: 0.4137 - accuracy: 0.8545\n",
      "Epoch 5/5\n",
      "1875/1875 [==============================] - 5s 3ms/step - loss: 0.3982 - accuracy: 0.8605\n",
      "\n",
      "313/313 [==============================] - 1s 2ms/step - loss: 0.4486 - accuracy: 0.8520\n",
      "Score: [0.4485682547092438, 0.8519999980926514]\n",
      "1 loop, best of 1: 27.1 s per loop\n"
     ]
    }
   ],
   "source": [
    "%%timeit -n1 -r1\n",
    "\n",
    "with tf.device('/GPU:0'):\n",
    "    gpu_ann = get_ann_model()\n",
    "    gpu_ann.fit(x_train, y_train, epochs=5)\n",
    "    print()\n",
    "    print(f'Score: {gpu_ann.evaluate(x_test, y_test)}')"
   ]
  }
 ],
 "metadata": {
  "accelerator": "GPU",
  "colab": {
   "collapsed_sections": [],
   "include_colab_link": true,
   "name": "gpu_vs_cpu_performance.ipynb",
   "provenance": []
  },
  "kernelspec": {
   "display_name": "Python 3 (ipykernel)",
   "language": "python",
   "name": "python3"
  },
  "language_info": {
   "codemirror_mode": {
    "name": "ipython",
    "version": 3
   },
   "file_extension": ".py",
   "mimetype": "text/x-python",
   "name": "python",
   "nbconvert_exporter": "python",
   "pygments_lexer": "ipython3",
   "version": "3.9.12"
  }
 },
 "nbformat": 4,
 "nbformat_minor": 1
}
