{
  "cells": [
    {
      "cell_type": "markdown",
      "metadata": {
        "id": "view-in-github",
        "colab_type": "text"
      },
      "source": [
        "<a href=\"https://colab.research.google.com/github/shoabahamed/codebasics-deep-learning-course/blob/main/logscaling_python.ipynb\" target=\"_parent\"><img src=\"https://colab.research.google.com/assets/colab-badge.svg\" alt=\"Open In Colab\"/></a>"
      ]
    },
    {
      "cell_type": "markdown",
      "source": [
        "<h2>In here we will generate skrewed data and visulize it also we will see how log scaling chage our data to something close to normal distribution which is also known s log normal distribution</h2>"
      ],
      "metadata": {
        "id": "E-imtiIPAEL6"
      }
    },
    {
      "cell_type": "markdown",
      "source": [
        "First Lets generate Right srewed data"
      ],
      "metadata": {
        "id": "DfNoKE-N7fVJ"
      }
    },
    {
      "cell_type": "code",
      "source": [
        "from scipy.stats import skewnorm\n",
        "import matplotlib.pyplot as plt\n",
        "import numpy as np"
      ],
      "metadata": {
        "id": "PHmvVaJP7YuB"
      },
      "execution_count": 40,
      "outputs": []
    },
    {
      "cell_type": "code",
      "source": [
        "numValues = 10000\n",
        "max_value = 500\n",
        "skewness = 10   #postive integar for right skewed data\n",
        "\n",
        "random = skewnorm.rvs(a=skewness, loc=max_value, size=numValues)  # generating rightskewqed data\n",
        "\n",
        "plt.hist(random)\n",
        "plt.show()"
      ],
      "metadata": {
        "id": "bl2FHwtO70DM",
        "outputId": "f62585ee-8ce8-4317-b502-478842cced54",
        "colab": {
          "base_uri": "https://localhost:8080/",
          "height": 269
        }
      },
      "execution_count": 30,
      "outputs": [
        {
          "output_type": "display_data",
          "data": {
            "text/plain": [
              "<Figure size 432x288 with 1 Axes>"
            ],
            "image/png": "[encoded data removed]"
          },
          "metadata": {
            "needs_background": "light"
          }
        }
      ]
    },
    {
      "cell_type": "code",
      "source": [
        "random = random - min(random)  # shitft the set so that the minimum value is zero\n",
        "plt.hist(random)\n",
        "plt.show()"
      ],
      "metadata": {
        "id": "mDbZQZcI8h7u",
        "outputId": "94de2e3a-5352-451f-d0a4-99fa1fd4b7b1",
        "colab": {
          "base_uri": "https://localhost:8080/",
          "height": 269
        }
      },
      "execution_count": 31,
      "outputs": [
        {
          "output_type": "display_data",
          "data": {
            "text/plain": [
              "<Figure size 432x288 with 1 Axes>"
            ],
            "image/png": "[encoded data removed]"
          },
          "metadata": {
            "needs_background": "light"
          }
        }
      ]
    },
    {
      "cell_type": "code",
      "source": [
        "random = random / max(random)  # scaling the data between 0 and 1(included)\n",
        "plt.hist(random)\n",
        "plt.show()"
      ],
      "metadata": {
        "id": "4g7KSd4I9I6u",
        "outputId": "c9cf8967-4f0e-4f84-ca31-65dd500e9327",
        "colab": {
          "base_uri": "https://localhost:8080/",
          "height": 269
        }
      },
      "execution_count": 32,
      "outputs": [
        {
          "output_type": "display_data",
          "data": {
            "text/plain": [
              "<Figure size 432x288 with 1 Axes>"
            ],
            "image/png": "[encoded data removed]"
          },
          "metadata": {
            "needs_background": "light"
          }
        }
      ]
    },
    {
      "cell_type": "code",
      "source": [
        "random = random * max_value # transforming the values to make sure to make sure that the highest value is 500\n",
        "plt.hist(random)\n",
        "plt.show()"
      ],
      "metadata": {
        "id": "JwKV3NB49noB",
        "outputId": "fad0d63d-63a8-461f-e064-a94d99c3ddab",
        "colab": {
          "base_uri": "https://localhost:8080/",
          "height": 269
        }
      },
      "execution_count": 33,
      "outputs": [
        {
          "output_type": "display_data",
          "data": {
            "text/plain": [
              "<Figure size 432x288 with 1 Axes>"
            ],
            "image/png": "[encoded data removed]"
          },
          "metadata": {
            "needs_background": "light"
          }
        }
      ]
    },
    {
      "cell_type": "code",
      "source": [
        "plt.hist(random, density=True) # showing as a density plot where the area is 1\n",
        "plt.show()"
      ],
      "metadata": {
        "id": "kbXOWInCAlPl",
        "outputId": "1c3d12ad-1501-484d-f424-4be41e6f879d",
        "colab": {
          "base_uri": "https://localhost:8080/",
          "height": 269
        }
      },
      "execution_count": 41,
      "outputs": [
        {
          "output_type": "display_data",
          "data": {
            "text/plain": [
              "<Figure size 432x288 with 1 Axes>"
            ],
            "image/png": "[encoded data removed]"
          },
          "metadata": {
            "needs_background": "light"
          }
        }
      ]
    },
    {
      "cell_type": "markdown",
      "source": [
        "<p>Right now our data is right tailed meaning there are very values which are between 300 and 400</p>\n",
        "<p>Infact they are so few that you can even see them clearly. In this case we can use log scale in either x or y scale</p>"
      ],
      "metadata": {
        "id": "KSPgqjhM-GL_"
      }
    },
    {
      "cell_type": "code",
      "source": [
        "plt.hist(random)\n",
        "plt.yscale('log')\n",
        "plt.show()"
      ],
      "metadata": {
        "id": "8MwdINr0-D6d",
        "outputId": "9b6c2de2-f6dc-4f41-fe8b-788bea443d4d",
        "colab": {
          "base_uri": "https://localhost:8080/",
          "height": 265
        }
      },
      "execution_count": 34,
      "outputs": [
        {
          "output_type": "display_data",
          "data": {
            "text/plain": [
              "<Figure size 432x288 with 1 Axes>"
            ],
            "image/png": "[encoded data removed]"
          },
          "metadata": {
            "needs_background": "light"
          }
        }
      ]
    },
    {
      "cell_type": "markdown",
      "source": [
        "<h4>Infact we can also use logscaling to normalize our data for machine learning</h4>"
      ],
      "metadata": {
        "id": "q8QbeygtBRaK"
      }
    },
    {
      "cell_type": "code",
      "source": [
        "plt.hist(random)\n",
        "plt.yscale('log')\n",
        "plt.show()"
      ],
      "metadata": {
        "id": "dfqZmLj_BRJk",
        "outputId": "ff5bf5ec-1a25-46e8-ef40-08130748ed0a",
        "colab": {
          "base_uri": "https://localhost:8080/",
          "height": 265
        }
      },
      "execution_count": 38,
      "outputs": [
        {
          "output_type": "display_data",
          "data": {
            "text/plain": [
              "<Figure size 432x288 with 1 Axes>"
            ],
            "image/png": "[encoded data removed]"
          },
          "metadata": {
            "needs_background": "light"
          }
        }
      ]
    },
    {
      "cell_type": "code",
      "source": [
        "plt.hist(random)\n",
        "plt.xscale('log')\n",
        "plt.show()"
      ],
      "metadata": {
        "id": "iMl2nZ9dBfhX",
        "outputId": "d11f0e27-c1ae-4114-93fc-641e714456f8",
        "colab": {
          "base_uri": "https://localhost:8080/",
          "height": 273
        }
      },
      "execution_count": 39,
      "outputs": [
        {
          "output_type": "display_data",
          "data": {
            "text/plain": [
              "<Figure size 432x288 with 1 Axes>"
            ],
            "image/png": "[encoded data removed]"
          },
          "metadata": {
            "needs_background": "light"
          }
        }
      ]
    },
    {
      "cell_type": "code",
      "source": [
        "epsilon = 1e-10\n",
        "values = [max(value, value + epsilon) if value == 0 else value for value in random]\n",
        "print(min(values))\n",
        "log_values = np.log(values)\n",
        "\n",
        "plt.hist(log_values)\n",
        "plt.xlim(min(log_values), max(log_values))\n",
        "plt.show()"
      ],
      "metadata": {
        "id": "qgLcMI4bCDyJ",
        "outputId": "26384c02-ae26-459e-88ea-befc1f080c00",
        "colab": {
          "base_uri": "https://localhost:8080/",
          "height": 283
        }
      },
      "execution_count": 50,
      "outputs": [
        {
          "output_type": "stream",
          "name": "stdout",
          "text": [
            "1e-10\n"
          ]
        },
        {
          "output_type": "display_data",
          "data": {
            "text/plain": [
              "<Figure size 432x288 with 1 Axes>"
            ],
            "image/png": "[encoded data removed]"
          },
          "metadata": {
            "needs_background": "light"
          }
        }
      ]
    },
    {
      "cell_type": "markdown",
      "source": [
        "<h4>The difference between log scaling and normal scaling is that log scaling does not change range of  values but scaling does(such as Standard Sclaer or MinMaxScaler</h4>"
      ],
      "metadata": {
        "id": "srtzD29nBgqB"
      }
    },
    {
      "cell_type": "code",
      "source": [
        "scaled = random / max(random)\n",
        "plt.hist(scaled)\n",
        "plt.show()"
      ],
      "metadata": {
        "id": "1UdMvaVO_fiF",
        "outputId": "f6450369-19b8-485b-97a7-4d8c6d3ec491",
        "colab": {
          "base_uri": "https://localhost:8080/",
          "height": 269
        }
      },
      "execution_count": 35,
      "outputs": [
        {
          "output_type": "display_data",
          "data": {
            "text/plain": [
              "<Figure size 432x288 with 1 Axes>"
            ],
            "image/png": "[encoded data removed]"
          },
          "metadata": {
            "needs_background": "light"
          }
        }
      ]
    }
  ],
  "metadata": {
    "colab": {
      "collapsed_sections": [],
      "name": "Welcome To Colaboratory",
      "provenance": [],
      "include_colab_link": true
    },
    "kernelspec": {
      "display_name": "Python 3",
      "name": "python3"
    }
  },
  "nbformat": 4,
  "nbformat_minor": 0
}